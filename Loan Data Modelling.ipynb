{
 "cells": [
  {
   "cell_type": "markdown",
   "metadata": {},
   "source": [
    "# Lending Club Loan Data Modelling"
   ]
  },
  {
   "cell_type": "markdown",
   "metadata": {},
   "source": [
    "# EDA and Sample Size"
   ]
  },
  {
   "cell_type": "markdown",
   "metadata": {},
   "source": [
    "I will be doing EDA (on top of what was done in part 2) and modelling on Lending Club Loan Data where the data is imbalanced, big and has multiple features with different data types.\n",
    "The objective is to figure out if an individual should be offered a loan or not."
   ]
  },
  {
   "cell_type": "code",
   "execution_count": 394,
   "metadata": {},
   "outputs": [],
   "source": [
    "#importing neccessary libraries\n",
    "import pandas as pd\n",
    "import numpy as np\n",
    "import matplotlib.pyplot as plt\n",
    "from matplotlib import rcParams\n",
    "from sklearn.ensemble import RandomForestClassifier\n",
    "from sklearn.metrics import accuracy_score,precision_score,recall_score\n",
    "from sklearn import tree\n",
    "%matplotlib inline\n",
    "rcParams['figure.figsize'] = 6,4"
   ]
  },
  {
   "cell_type": "code",
   "execution_count": 395,
   "metadata": {},
   "outputs": [
    {
     "name": "stderr",
     "output_type": "stream",
     "text": [
      "C:\\Users\\Ann\\Anaconda3\\lib\\site-packages\\IPython\\core\\interactiveshell.py:2785: DtypeWarning: Columns (19,55) have mixed types. Specify dtype option on import or set low_memory=False.\n",
      "  interactivity=interactivity, compiler=compiler, result=result)\n"
     ]
    }
   ],
   "source": [
    "df_loan = pd.read_csv(r\"C:\\Users\\Ann\\Desktop\\GA_DataScience\\loan.csv\")"
   ]
  },
  {
   "cell_type": "code",
   "execution_count": 396,
   "metadata": {},
   "outputs": [
    {
     "name": "stdout",
     "output_type": "stream",
     "text": [
      "<class 'pandas.core.frame.DataFrame'>\n",
      "RangeIndex: 887379 entries, 0 to 887378\n",
      "Data columns (total 74 columns):\n",
      "id                             887379 non-null int64\n",
      "member_id                      887379 non-null int64\n",
      "loan_amnt                      887379 non-null float64\n",
      "funded_amnt                    887379 non-null float64\n",
      "funded_amnt_inv                887379 non-null float64\n",
      "term                           887379 non-null object\n",
      "int_rate                       887379 non-null float64\n",
      "installment                    887379 non-null float64\n",
      "grade                          887379 non-null object\n",
      "sub_grade                      887379 non-null object\n",
      "emp_title                      835917 non-null object\n",
      "emp_length                     842554 non-null object\n",
      "home_ownership                 887379 non-null object\n",
      "annual_inc                     887375 non-null float64\n",
      "verification_status            887379 non-null object\n",
      "issue_d                        887379 non-null object\n",
      "loan_status                    887379 non-null object\n",
      "pymnt_plan                     887379 non-null object\n",
      "url                            887379 non-null object\n",
      "desc                           126028 non-null object\n",
      "purpose                        887379 non-null object\n",
      "title                          887227 non-null object\n",
      "zip_code                       887379 non-null object\n",
      "addr_state                     887379 non-null object\n",
      "dti                            887379 non-null float64\n",
      "delinq_2yrs                    887350 non-null float64\n",
      "earliest_cr_line               887350 non-null object\n",
      "inq_last_6mths                 887350 non-null float64\n",
      "mths_since_last_delinq         433067 non-null float64\n",
      "mths_since_last_record         137053 non-null float64\n",
      "open_acc                       887350 non-null float64\n",
      "pub_rec                        887350 non-null float64\n",
      "revol_bal                      887379 non-null float64\n",
      "revol_util                     886877 non-null float64\n",
      "total_acc                      887350 non-null float64\n",
      "initial_list_status            887379 non-null object\n",
      "out_prncp                      887379 non-null float64\n",
      "out_prncp_inv                  887379 non-null float64\n",
      "total_pymnt                    887379 non-null float64\n",
      "total_pymnt_inv                887379 non-null float64\n",
      "total_rec_prncp                887379 non-null float64\n",
      "total_rec_int                  887379 non-null float64\n",
      "total_rec_late_fee             887379 non-null float64\n",
      "recoveries                     887379 non-null float64\n",
      "collection_recovery_fee        887379 non-null float64\n",
      "last_pymnt_d                   869720 non-null object\n",
      "last_pymnt_amnt                887379 non-null float64\n",
      "next_pymnt_d                   634408 non-null object\n",
      "last_credit_pull_d             887326 non-null object\n",
      "collections_12_mths_ex_med     887234 non-null float64\n",
      "mths_since_last_major_derog    221703 non-null float64\n",
      "policy_code                    887379 non-null float64\n",
      "application_type               887379 non-null object\n",
      "annual_inc_joint               511 non-null float64\n",
      "dti_joint                      509 non-null float64\n",
      "verification_status_joint      511 non-null object\n",
      "acc_now_delinq                 887350 non-null float64\n",
      "tot_coll_amt                   817103 non-null float64\n",
      "tot_cur_bal                    817103 non-null float64\n",
      "open_acc_6m                    21372 non-null float64\n",
      "open_il_6m                     21372 non-null float64\n",
      "open_il_12m                    21372 non-null float64\n",
      "open_il_24m                    21372 non-null float64\n",
      "mths_since_rcnt_il             20810 non-null float64\n",
      "total_bal_il                   21372 non-null float64\n",
      "il_util                        18617 non-null float64\n",
      "open_rv_12m                    21372 non-null float64\n",
      "open_rv_24m                    21372 non-null float64\n",
      "max_bal_bc                     21372 non-null float64\n",
      "all_util                       21372 non-null float64\n",
      "total_rev_hi_lim               817103 non-null float64\n",
      "inq_fi                         21372 non-null float64\n",
      "total_cu_tl                    21372 non-null float64\n",
      "inq_last_12m                   21372 non-null float64\n",
      "dtypes: float64(49), int64(2), object(23)\n",
      "memory usage: 501.0+ MB\n"
     ]
    }
   ],
   "source": [
    "df_loan.info()\n",
    "#887379 toal entries, 74 columns"
   ]
  },
  {
   "cell_type": "code",
   "execution_count": 397,
   "metadata": {},
   "outputs": [
    {
     "data": {
      "text/html": [
       "<div>\n",
       "<style scoped>\n",
       "    .dataframe tbody tr th:only-of-type {\n",
       "        vertical-align: middle;\n",
       "    }\n",
       "\n",
       "    .dataframe tbody tr th {\n",
       "        vertical-align: top;\n",
       "    }\n",
       "\n",
       "    .dataframe thead th {\n",
       "        text-align: right;\n",
       "    }\n",
       "</style>\n",
       "<table border=\"1\" class=\"dataframe\">\n",
       "  <thead>\n",
       "    <tr style=\"text-align: right;\">\n",
       "      <th></th>\n",
       "      <th>id</th>\n",
       "      <th>member_id</th>\n",
       "      <th>loan_amnt</th>\n",
       "      <th>funded_amnt</th>\n",
       "      <th>funded_amnt_inv</th>\n",
       "      <th>int_rate</th>\n",
       "      <th>installment</th>\n",
       "      <th>annual_inc</th>\n",
       "      <th>dti</th>\n",
       "      <th>delinq_2yrs</th>\n",
       "      <th>...</th>\n",
       "      <th>total_bal_il</th>\n",
       "      <th>il_util</th>\n",
       "      <th>open_rv_12m</th>\n",
       "      <th>open_rv_24m</th>\n",
       "      <th>max_bal_bc</th>\n",
       "      <th>all_util</th>\n",
       "      <th>total_rev_hi_lim</th>\n",
       "      <th>inq_fi</th>\n",
       "      <th>total_cu_tl</th>\n",
       "      <th>inq_last_12m</th>\n",
       "    </tr>\n",
       "  </thead>\n",
       "  <tbody>\n",
       "    <tr>\n",
       "      <th>count</th>\n",
       "      <td>8.873790e+05</td>\n",
       "      <td>8.873790e+05</td>\n",
       "      <td>887379.000000</td>\n",
       "      <td>887379.000000</td>\n",
       "      <td>887379.000000</td>\n",
       "      <td>887379.000000</td>\n",
       "      <td>887379.000000</td>\n",
       "      <td>8.873750e+05</td>\n",
       "      <td>887379.000000</td>\n",
       "      <td>887350.000000</td>\n",
       "      <td>...</td>\n",
       "      <td>21372.000000</td>\n",
       "      <td>18617.000000</td>\n",
       "      <td>21372.000000</td>\n",
       "      <td>21372.000000</td>\n",
       "      <td>21372.000000</td>\n",
       "      <td>21372.000000</td>\n",
       "      <td>8.171030e+05</td>\n",
       "      <td>21372.000000</td>\n",
       "      <td>21372.000000</td>\n",
       "      <td>21372.000000</td>\n",
       "    </tr>\n",
       "    <tr>\n",
       "      <th>mean</th>\n",
       "      <td>3.246513e+07</td>\n",
       "      <td>3.500182e+07</td>\n",
       "      <td>14755.264605</td>\n",
       "      <td>14741.877625</td>\n",
       "      <td>14702.464383</td>\n",
       "      <td>13.246740</td>\n",
       "      <td>436.717127</td>\n",
       "      <td>7.502759e+04</td>\n",
       "      <td>18.157039</td>\n",
       "      <td>0.314442</td>\n",
       "      <td>...</td>\n",
       "      <td>36552.811389</td>\n",
       "      <td>71.535317</td>\n",
       "      <td>1.389060</td>\n",
       "      <td>2.975482</td>\n",
       "      <td>5887.979740</td>\n",
       "      <td>60.831939</td>\n",
       "      <td>3.206862e+04</td>\n",
       "      <td>0.943945</td>\n",
       "      <td>1.537058</td>\n",
       "      <td>1.977307</td>\n",
       "    </tr>\n",
       "    <tr>\n",
       "      <th>std</th>\n",
       "      <td>2.282734e+07</td>\n",
       "      <td>2.411335e+07</td>\n",
       "      <td>8435.455601</td>\n",
       "      <td>8429.897657</td>\n",
       "      <td>8442.106732</td>\n",
       "      <td>4.381867</td>\n",
       "      <td>244.186593</td>\n",
       "      <td>6.469830e+04</td>\n",
       "      <td>17.190626</td>\n",
       "      <td>0.862244</td>\n",
       "      <td>...</td>\n",
       "      <td>43103.833619</td>\n",
       "      <td>23.022862</td>\n",
       "      <td>1.520129</td>\n",
       "      <td>2.631886</td>\n",
       "      <td>5284.701239</td>\n",
       "      <td>20.013254</td>\n",
       "      <td>3.749826e+04</td>\n",
       "      <td>1.446872</td>\n",
       "      <td>2.723339</td>\n",
       "      <td>2.874067</td>\n",
       "    </tr>\n",
       "    <tr>\n",
       "      <th>min</th>\n",
       "      <td>5.473400e+04</td>\n",
       "      <td>7.047300e+04</td>\n",
       "      <td>500.000000</td>\n",
       "      <td>500.000000</td>\n",
       "      <td>0.000000</td>\n",
       "      <td>5.320000</td>\n",
       "      <td>15.670000</td>\n",
       "      <td>0.000000e+00</td>\n",
       "      <td>0.000000</td>\n",
       "      <td>0.000000</td>\n",
       "      <td>...</td>\n",
       "      <td>0.000000</td>\n",
       "      <td>0.000000</td>\n",
       "      <td>0.000000</td>\n",
       "      <td>0.000000</td>\n",
       "      <td>0.000000</td>\n",
       "      <td>0.000000</td>\n",
       "      <td>0.000000e+00</td>\n",
       "      <td>0.000000</td>\n",
       "      <td>0.000000</td>\n",
       "      <td>-4.000000</td>\n",
       "    </tr>\n",
       "    <tr>\n",
       "      <th>25%</th>\n",
       "      <td>9.206643e+06</td>\n",
       "      <td>1.087713e+07</td>\n",
       "      <td>8000.000000</td>\n",
       "      <td>8000.000000</td>\n",
       "      <td>8000.000000</td>\n",
       "      <td>9.990000</td>\n",
       "      <td>260.705000</td>\n",
       "      <td>4.500000e+04</td>\n",
       "      <td>11.910000</td>\n",
       "      <td>0.000000</td>\n",
       "      <td>...</td>\n",
       "      <td>10251.500000</td>\n",
       "      <td>58.600000</td>\n",
       "      <td>0.000000</td>\n",
       "      <td>1.000000</td>\n",
       "      <td>2411.000000</td>\n",
       "      <td>47.700000</td>\n",
       "      <td>1.390000e+04</td>\n",
       "      <td>0.000000</td>\n",
       "      <td>0.000000</td>\n",
       "      <td>0.000000</td>\n",
       "    </tr>\n",
       "    <tr>\n",
       "      <th>50%</th>\n",
       "      <td>3.443327e+07</td>\n",
       "      <td>3.709528e+07</td>\n",
       "      <td>13000.000000</td>\n",
       "      <td>13000.000000</td>\n",
       "      <td>13000.000000</td>\n",
       "      <td>12.990000</td>\n",
       "      <td>382.550000</td>\n",
       "      <td>6.500000e+04</td>\n",
       "      <td>17.650000</td>\n",
       "      <td>0.000000</td>\n",
       "      <td>...</td>\n",
       "      <td>24684.500000</td>\n",
       "      <td>74.900000</td>\n",
       "      <td>1.000000</td>\n",
       "      <td>2.000000</td>\n",
       "      <td>4483.000000</td>\n",
       "      <td>61.900000</td>\n",
       "      <td>2.370000e+04</td>\n",
       "      <td>0.000000</td>\n",
       "      <td>0.000000</td>\n",
       "      <td>2.000000</td>\n",
       "    </tr>\n",
       "    <tr>\n",
       "      <th>75%</th>\n",
       "      <td>5.490814e+07</td>\n",
       "      <td>5.847135e+07</td>\n",
       "      <td>20000.000000</td>\n",
       "      <td>20000.000000</td>\n",
       "      <td>20000.000000</td>\n",
       "      <td>16.200000</td>\n",
       "      <td>572.600000</td>\n",
       "      <td>9.000000e+04</td>\n",
       "      <td>23.950000</td>\n",
       "      <td>0.000000</td>\n",
       "      <td>...</td>\n",
       "      <td>47858.000000</td>\n",
       "      <td>87.600000</td>\n",
       "      <td>2.000000</td>\n",
       "      <td>4.000000</td>\n",
       "      <td>7771.500000</td>\n",
       "      <td>75.200000</td>\n",
       "      <td>3.980000e+04</td>\n",
       "      <td>1.000000</td>\n",
       "      <td>2.000000</td>\n",
       "      <td>3.000000</td>\n",
       "    </tr>\n",
       "    <tr>\n",
       "      <th>max</th>\n",
       "      <td>6.861706e+07</td>\n",
       "      <td>7.354484e+07</td>\n",
       "      <td>35000.000000</td>\n",
       "      <td>35000.000000</td>\n",
       "      <td>35000.000000</td>\n",
       "      <td>28.990000</td>\n",
       "      <td>1445.460000</td>\n",
       "      <td>9.500000e+06</td>\n",
       "      <td>9999.000000</td>\n",
       "      <td>39.000000</td>\n",
       "      <td>...</td>\n",
       "      <td>878459.000000</td>\n",
       "      <td>223.300000</td>\n",
       "      <td>22.000000</td>\n",
       "      <td>43.000000</td>\n",
       "      <td>127305.000000</td>\n",
       "      <td>151.400000</td>\n",
       "      <td>9.999999e+06</td>\n",
       "      <td>17.000000</td>\n",
       "      <td>35.000000</td>\n",
       "      <td>32.000000</td>\n",
       "    </tr>\n",
       "  </tbody>\n",
       "</table>\n",
       "<p>8 rows × 51 columns</p>\n",
       "</div>"
      ],
      "text/plain": [
       "                 id     member_id      loan_amnt    funded_amnt  \\\n",
       "count  8.873790e+05  8.873790e+05  887379.000000  887379.000000   \n",
       "mean   3.246513e+07  3.500182e+07   14755.264605   14741.877625   \n",
       "std    2.282734e+07  2.411335e+07    8435.455601    8429.897657   \n",
       "min    5.473400e+04  7.047300e+04     500.000000     500.000000   \n",
       "25%    9.206643e+06  1.087713e+07    8000.000000    8000.000000   \n",
       "50%    3.443327e+07  3.709528e+07   13000.000000   13000.000000   \n",
       "75%    5.490814e+07  5.847135e+07   20000.000000   20000.000000   \n",
       "max    6.861706e+07  7.354484e+07   35000.000000   35000.000000   \n",
       "\n",
       "       funded_amnt_inv       int_rate    installment    annual_inc  \\\n",
       "count    887379.000000  887379.000000  887379.000000  8.873750e+05   \n",
       "mean      14702.464383      13.246740     436.717127  7.502759e+04   \n",
       "std        8442.106732       4.381867     244.186593  6.469830e+04   \n",
       "min           0.000000       5.320000      15.670000  0.000000e+00   \n",
       "25%        8000.000000       9.990000     260.705000  4.500000e+04   \n",
       "50%       13000.000000      12.990000     382.550000  6.500000e+04   \n",
       "75%       20000.000000      16.200000     572.600000  9.000000e+04   \n",
       "max       35000.000000      28.990000    1445.460000  9.500000e+06   \n",
       "\n",
       "                 dti    delinq_2yrs      ...        total_bal_il  \\\n",
       "count  887379.000000  887350.000000      ...        21372.000000   \n",
       "mean       18.157039       0.314442      ...        36552.811389   \n",
       "std        17.190626       0.862244      ...        43103.833619   \n",
       "min         0.000000       0.000000      ...            0.000000   \n",
       "25%        11.910000       0.000000      ...        10251.500000   \n",
       "50%        17.650000       0.000000      ...        24684.500000   \n",
       "75%        23.950000       0.000000      ...        47858.000000   \n",
       "max      9999.000000      39.000000      ...       878459.000000   \n",
       "\n",
       "            il_util   open_rv_12m   open_rv_24m     max_bal_bc      all_util  \\\n",
       "count  18617.000000  21372.000000  21372.000000   21372.000000  21372.000000   \n",
       "mean      71.535317      1.389060      2.975482    5887.979740     60.831939   \n",
       "std       23.022862      1.520129      2.631886    5284.701239     20.013254   \n",
       "min        0.000000      0.000000      0.000000       0.000000      0.000000   \n",
       "25%       58.600000      0.000000      1.000000    2411.000000     47.700000   \n",
       "50%       74.900000      1.000000      2.000000    4483.000000     61.900000   \n",
       "75%       87.600000      2.000000      4.000000    7771.500000     75.200000   \n",
       "max      223.300000     22.000000     43.000000  127305.000000    151.400000   \n",
       "\n",
       "       total_rev_hi_lim        inq_fi   total_cu_tl  inq_last_12m  \n",
       "count      8.171030e+05  21372.000000  21372.000000  21372.000000  \n",
       "mean       3.206862e+04      0.943945      1.537058      1.977307  \n",
       "std        3.749826e+04      1.446872      2.723339      2.874067  \n",
       "min        0.000000e+00      0.000000      0.000000     -4.000000  \n",
       "25%        1.390000e+04      0.000000      0.000000      0.000000  \n",
       "50%        2.370000e+04      0.000000      0.000000      2.000000  \n",
       "75%        3.980000e+04      1.000000      2.000000      3.000000  \n",
       "max        9.999999e+06     17.000000     35.000000     32.000000  \n",
       "\n",
       "[8 rows x 51 columns]"
      ]
     },
     "execution_count": 397,
     "metadata": {},
     "output_type": "execute_result"
    }
   ],
   "source": [
    "df_loan.describe()"
   ]
  },
  {
   "cell_type": "markdown",
   "metadata": {},
   "source": [
    "Building up on my EDA (part 2), in order to build a focussed model, I am going to build a model on those loans that were issued after Dec-2009 in order to use more recent data and to avoid using data from the financial crisis years."
   ]
  },
  {
   "cell_type": "code",
   "execution_count": 398,
   "metadata": {},
   "outputs": [],
   "source": [
    "#taking all the loans issued only from 2010\n",
    "df_loan_2010 = df_loan.loc[df_loan['issue_d'] > 'Dec-2009', :]"
   ]
  },
  {
   "cell_type": "code",
   "execution_count": 399,
   "metadata": {},
   "outputs": [
    {
     "name": "stdout",
     "output_type": "stream",
     "text": [
      "<class 'pandas.core.frame.DataFrame'>\n",
      "Int64Index: 739560 entries, 0 to 887378\n",
      "Data columns (total 74 columns):\n",
      "id                             739560 non-null int64\n",
      "member_id                      739560 non-null int64\n",
      "loan_amnt                      739560 non-null float64\n",
      "funded_amnt                    739560 non-null float64\n",
      "funded_amnt_inv                739560 non-null float64\n",
      "term                           739560 non-null object\n",
      "int_rate                       739560 non-null float64\n",
      "installment                    739560 non-null float64\n",
      "grade                          739560 non-null object\n",
      "sub_grade                      739560 non-null object\n",
      "emp_title                      696462 non-null object\n",
      "emp_length                     702228 non-null object\n",
      "home_ownership                 739560 non-null object\n",
      "annual_inc                     739558 non-null float64\n",
      "verification_status            739560 non-null object\n",
      "issue_d                        739560 non-null object\n",
      "loan_status                    739560 non-null object\n",
      "pymnt_plan                     739560 non-null object\n",
      "url                            739560 non-null object\n",
      "desc                           107036 non-null object\n",
      "purpose                        739560 non-null object\n",
      "title                          739411 non-null object\n",
      "zip_code                       739560 non-null object\n",
      "addr_state                     739560 non-null object\n",
      "dti                            739560 non-null float64\n",
      "delinq_2yrs                    739535 non-null float64\n",
      "earliest_cr_line               739535 non-null object\n",
      "inq_last_6mths                 739535 non-null float64\n",
      "mths_since_last_delinq         361487 non-null float64\n",
      "mths_since_last_record         114473 non-null float64\n",
      "open_acc                       739535 non-null float64\n",
      "pub_rec                        739535 non-null float64\n",
      "revol_bal                      739560 non-null float64\n",
      "revol_util                     739144 non-null float64\n",
      "total_acc                      739535 non-null float64\n",
      "initial_list_status            739560 non-null object\n",
      "out_prncp                      739560 non-null float64\n",
      "out_prncp_inv                  739560 non-null float64\n",
      "total_pymnt                    739560 non-null float64\n",
      "total_pymnt_inv                739560 non-null float64\n",
      "total_rec_prncp                739560 non-null float64\n",
      "total_rec_int                  739560 non-null float64\n",
      "total_rec_late_fee             739560 non-null float64\n",
      "recoveries                     739560 non-null float64\n",
      "collection_recovery_fee        739560 non-null float64\n",
      "last_pymnt_d                   722009 non-null object\n",
      "last_pymnt_amnt                739560 non-null float64\n",
      "next_pymnt_d                   530231 non-null object\n",
      "last_credit_pull_d             739511 non-null object\n",
      "collections_12_mths_ex_med     739468 non-null float64\n",
      "mths_since_last_major_derog    185650 non-null float64\n",
      "policy_code                    739560 non-null float64\n",
      "application_type               739560 non-null object\n",
      "annual_inc_joint               511 non-null float64\n",
      "dti_joint                      509 non-null float64\n",
      "verification_status_joint      511 non-null object\n",
      "acc_now_delinq                 739535 non-null float64\n",
      "tot_coll_amt                   684904 non-null float64\n",
      "tot_cur_bal                    684904 non-null float64\n",
      "open_acc_6m                    21372 non-null float64\n",
      "open_il_6m                     21372 non-null float64\n",
      "open_il_12m                    21372 non-null float64\n",
      "open_il_24m                    21372 non-null float64\n",
      "mths_since_rcnt_il             20810 non-null float64\n",
      "total_bal_il                   21372 non-null float64\n",
      "il_util                        18617 non-null float64\n",
      "open_rv_12m                    21372 non-null float64\n",
      "open_rv_24m                    21372 non-null float64\n",
      "max_bal_bc                     21372 non-null float64\n",
      "all_util                       21372 non-null float64\n",
      "total_rev_hi_lim               684904 non-null float64\n",
      "inq_fi                         21372 non-null float64\n",
      "total_cu_tl                    21372 non-null float64\n",
      "inq_last_12m                   21372 non-null float64\n",
      "dtypes: float64(49), int64(2), object(23)\n",
      "memory usage: 423.2+ MB\n"
     ]
    }
   ],
   "source": [
    "df_loan_2010.info()\n",
    "#leaving us with 739560 entries"
   ]
  },
  {
   "cell_type": "code",
   "execution_count": 400,
   "metadata": {},
   "outputs": [
    {
     "data": {
      "text/plain": [
       "Current                                                501871\n",
       "Fully Paid                                             171868\n",
       "Charged Off                                             37461\n",
       "Late (31-120 days)                                       9602\n",
       "Issued                                                   8460\n",
       "In Grace Period                                          5192\n",
       "Late (16-30 days)                                        1961\n",
       "Does not meet the credit policy. Status:Fully Paid       1536\n",
       "Default                                                  1010\n",
       "Does not meet the credit policy. Status:Charged Off       599\n",
       "Name: loan_status, dtype: int64"
      ]
     },
     "execution_count": 400,
     "metadata": {},
     "output_type": "execute_result"
    }
   ],
   "source": [
    "df_loan_2010['loan_status'].value_counts()"
   ]
  },
  {
   "cell_type": "code",
   "execution_count": 401,
   "metadata": {},
   "outputs": [],
   "source": [
    "#removing loans with status current and issued beacuause no additional info on if the loan will default, \n",
    "#removing in grace period and 16-30 days late since we don't know if they will default or not.\n",
    "df_loan_2010_clean = df_loan_2010[df_loan_2010['loan_status'].isin(['Current', 'Issued', 'In Grace Period','Late (16-30 days)']) == False]"
   ]
  },
  {
   "cell_type": "code",
   "execution_count": 402,
   "metadata": {},
   "outputs": [
    {
     "data": {
      "text/plain": [
       "Fully Paid                                             171868\n",
       "Charged Off                                             37461\n",
       "Late (31-120 days)                                       9602\n",
       "Does not meet the credit policy. Status:Fully Paid       1536\n",
       "Default                                                  1010\n",
       "Does not meet the credit policy. Status:Charged Off       599\n",
       "Name: loan_status, dtype: int64"
      ]
     },
     "execution_count": 402,
     "metadata": {},
     "output_type": "execute_result"
    }
   ],
   "source": [
    "df_loan_2010_clean['loan_status'].value_counts()"
   ]
  },
  {
   "cell_type": "code",
   "execution_count": 403,
   "metadata": {},
   "outputs": [
    {
     "name": "stdout",
     "output_type": "stream",
     "text": [
      "<class 'pandas.core.frame.DataFrame'>\n",
      "Int64Index: 222076 entries, 0 to 887371\n",
      "Data columns (total 74 columns):\n",
      "id                             222076 non-null int64\n",
      "member_id                      222076 non-null int64\n",
      "loan_amnt                      222076 non-null float64\n",
      "funded_amnt                    222076 non-null float64\n",
      "funded_amnt_inv                222076 non-null float64\n",
      "term                           222076 non-null object\n",
      "int_rate                       222076 non-null float64\n",
      "installment                    222076 non-null float64\n",
      "grade                          222076 non-null object\n",
      "sub_grade                      222076 non-null object\n",
      "emp_title                      209549 non-null object\n",
      "emp_length                     213153 non-null object\n",
      "home_ownership                 222076 non-null object\n",
      "annual_inc                     222074 non-null float64\n",
      "verification_status            222076 non-null object\n",
      "issue_d                        222076 non-null object\n",
      "loan_status                    222076 non-null object\n",
      "pymnt_plan                     222076 non-null object\n",
      "url                            222076 non-null object\n",
      "desc                           77003 non-null object\n",
      "purpose                        222076 non-null object\n",
      "title                          222063 non-null object\n",
      "zip_code                       222076 non-null object\n",
      "addr_state                     222076 non-null object\n",
      "dti                            222076 non-null float64\n",
      "delinq_2yrs                    222051 non-null float64\n",
      "earliest_cr_line               222051 non-null object\n",
      "inq_last_6mths                 222051 non-null float64\n",
      "mths_since_last_delinq         100014 non-null float64\n",
      "mths_since_last_record         28800 non-null float64\n",
      "open_acc                       222051 non-null float64\n",
      "pub_rec                        222051 non-null float64\n",
      "revol_bal                      222076 non-null float64\n",
      "revol_util                     221872 non-null float64\n",
      "total_acc                      222051 non-null float64\n",
      "initial_list_status            222076 non-null object\n",
      "out_prncp                      222076 non-null float64\n",
      "out_prncp_inv                  222076 non-null float64\n",
      "total_pymnt                    222076 non-null float64\n",
      "total_pymnt_inv                222076 non-null float64\n",
      "total_rec_prncp                222076 non-null float64\n",
      "total_rec_int                  222076 non-null float64\n",
      "total_rec_late_fee             222076 non-null float64\n",
      "recoveries                     222076 non-null float64\n",
      "collection_recovery_fee        222076 non-null float64\n",
      "last_pymnt_d                   221516 non-null object\n",
      "last_pymnt_amnt                222076 non-null float64\n",
      "next_pymnt_d                   12747 non-null object\n",
      "last_credit_pull_d             222056 non-null object\n",
      "collections_12_mths_ex_med     221984 non-null float64\n",
      "mths_since_last_major_derog    43220 non-null float64\n",
      "policy_code                    222076 non-null float64\n",
      "application_type               222076 non-null object\n",
      "annual_inc_joint               3 non-null float64\n",
      "dti_joint                      3 non-null float64\n",
      "verification_status_joint      3 non-null object\n",
      "acc_now_delinq                 222051 non-null float64\n",
      "tot_coll_amt                   170331 non-null float64\n",
      "tot_cur_bal                    170331 non-null float64\n",
      "open_acc_6m                    144 non-null float64\n",
      "open_il_6m                     144 non-null float64\n",
      "open_il_12m                    144 non-null float64\n",
      "open_il_24m                    144 non-null float64\n",
      "mths_since_rcnt_il             140 non-null float64\n",
      "total_bal_il                   144 non-null float64\n",
      "il_util                        126 non-null float64\n",
      "open_rv_12m                    144 non-null float64\n",
      "open_rv_24m                    144 non-null float64\n",
      "max_bal_bc                     144 non-null float64\n",
      "all_util                       144 non-null float64\n",
      "total_rev_hi_lim               170331 non-null float64\n",
      "inq_fi                         144 non-null float64\n",
      "total_cu_tl                    144 non-null float64\n",
      "inq_last_12m                   144 non-null float64\n",
      "dtypes: float64(49), int64(2), object(23)\n",
      "memory usage: 127.1+ MB\n"
     ]
    }
   ],
   "source": [
    "df_loan_2010_clean.info()\n",
    "#leaving us with 222076"
   ]
  },
  {
   "cell_type": "markdown",
   "metadata": {},
   "source": [
    "# Feature Selection"
   ]
  },
  {
   "cell_type": "code",
   "execution_count": 404,
   "metadata": {},
   "outputs": [
    {
     "data": {
      "text/plain": [
       "1662"
      ]
     },
     "execution_count": 404,
     "metadata": {},
     "output_type": "execute_result"
    }
   ],
   "source": [
    "(df_loan_2010_clean['loan_amnt']!=df_loan_2010_clean['funded_amnt']).sum()\n",
    "#only 1662 out 222076 have differing values of loan and funded amount. can exclude funded amnt"
   ]
  },
  {
   "cell_type": "code",
   "execution_count": 405,
   "metadata": {},
   "outputs": [
    {
     "data": {
      "text/plain": [
       "38629"
      ]
     },
     "execution_count": 405,
     "metadata": {},
     "output_type": "execute_result"
    }
   ],
   "source": [
    "(df_loan_2010_clean['funded_amnt_inv']!=df_loan_2010_clean['funded_amnt']).sum()\n",
    "#only 38629 out 222076 have differing values of funded invested and funded amount. can exclude funded invested amnt also"
   ]
  },
  {
   "cell_type": "code",
   "execution_count": 406,
   "metadata": {},
   "outputs": [
    {
     "name": "stdout",
     "output_type": "stream",
     "text": [
      "debt_consolidation    130876\n",
      "credit_card            44166\n",
      "home_improvement       12824\n",
      "other                  12340\n",
      "major_purchase          5365\n",
      "small_business          4238\n",
      "car                     3083\n",
      "medical                 2504\n",
      "moving                  1731\n",
      "wedding                 1607\n",
      "house                   1414\n",
      "vacation                1368\n",
      "educational              326\n",
      "renewable_energy         234\n",
      "Name: purpose, dtype: int64\n"
     ]
    }
   ],
   "source": [
    "print(df_loan_2010_clean['purpose'].value_counts())"
   ]
  },
  {
   "cell_type": "code",
   "execution_count": 407,
   "metadata": {},
   "outputs": [
    {
     "data": {
      "text/plain": [
       "B    65227\n",
       "C    57794\n",
       "D    36678\n",
       "A    35553\n",
       "E    17841\n",
       "F     7107\n",
       "G     1876\n",
       "Name: grade, dtype: int64"
      ]
     },
     "execution_count": 407,
     "metadata": {},
     "output_type": "execute_result"
    }
   ],
   "source": [
    "df_loan_2010_clean['grade'].value_counts()"
   ]
  },
  {
   "cell_type": "code",
   "execution_count": 408,
   "metadata": {},
   "outputs": [
    {
     "data": {
      "text/plain": [
       "0         B2\n",
       "1         C4\n",
       "2         C5\n",
       "3         C1\n",
       "5         A4\n",
       "7         E1\n",
       "8         F2\n",
       "9         B5\n",
       "10        C3\n",
       "11        B5\n",
       "12        C1\n",
       "13        B1\n",
       "14        B2\n",
       "15        D1\n",
       "16        C4\n",
       "17        A1\n",
       "18        B3\n",
       "19        A1\n",
       "20        C4\n",
       "21        B4\n",
       "22        B3\n",
       "23        B3\n",
       "24        B3\n",
       "25        B1\n",
       "26        C2\n",
       "27        D2\n",
       "28        B3\n",
       "29        B3\n",
       "30        A3\n",
       "31        A4\n",
       "          ..\n",
       "887194    C4\n",
       "887198    C5\n",
       "887202    B5\n",
       "887215    D4\n",
       "887231    D1\n",
       "887248    C1\n",
       "887249    E5\n",
       "887254    C5\n",
       "887263    C1\n",
       "887264    C2\n",
       "887268    C5\n",
       "887275    C3\n",
       "887276    E4\n",
       "887279    D3\n",
       "887280    D1\n",
       "887290    F4\n",
       "887303    D5\n",
       "887308    D5\n",
       "887322    F2\n",
       "887330    D2\n",
       "887332    C1\n",
       "887337    C4\n",
       "887345    D1\n",
       "887346    B3\n",
       "887347    D2\n",
       "887351    D2\n",
       "887364    A1\n",
       "887366    D3\n",
       "887369    B1\n",
       "887371    E2\n",
       "Name: sub_grade, Length: 222076, dtype: object"
      ]
     },
     "execution_count": 408,
     "metadata": {},
     "output_type": "execute_result"
    }
   ],
   "source": [
    "df_loan_2010_clean['sub_grade']\n",
    "#column sub grade has more granular details but difficult to convert to numeric so using only grade"
   ]
  },
  {
   "cell_type": "code",
   "execution_count": 409,
   "metadata": {},
   "outputs": [
    {
     "data": {
      "text/plain": [
       "count      209549\n",
       "unique     117075\n",
       "top       Manager\n",
       "freq         1795\n",
       "Name: emp_title, dtype: object"
      ]
     },
     "execution_count": 409,
     "metadata": {},
     "output_type": "execute_result"
    }
   ],
   "source": [
    "df_loan_2010_clean.emp_title.describe()\n",
    "#large number of unique titles, not suitable for modelling"
   ]
  },
  {
   "cell_type": "code",
   "execution_count": 410,
   "metadata": {},
   "outputs": [
    {
     "data": {
      "text/plain": [
       "211468"
      ]
     },
     "execution_count": 410,
     "metadata": {},
     "output_type": "execute_result"
    }
   ],
   "source": [
    "(df_loan_2010_clean['out_prncp']==0).sum()\n",
    "#211468 have the value 0. excluding for modelling since too many 0 values, it is not adding any value to the model"
   ]
  },
  {
   "cell_type": "code",
   "execution_count": 411,
   "metadata": {},
   "outputs": [
    {
     "name": "stdout",
     "output_type": "stream",
     "text": [
      "<bound method Series.unique of 0         1.0\n",
      "1         1.0\n",
      "2         1.0\n",
      "3         1.0\n",
      "5         1.0\n",
      "7         1.0\n",
      "8         1.0\n",
      "9         1.0\n",
      "10        1.0\n",
      "11        1.0\n",
      "12        1.0\n",
      "13        1.0\n",
      "14        1.0\n",
      "15        1.0\n",
      "16        1.0\n",
      "17        1.0\n",
      "18        1.0\n",
      "19        1.0\n",
      "20        1.0\n",
      "21        1.0\n",
      "22        1.0\n",
      "23        1.0\n",
      "24        1.0\n",
      "25        1.0\n",
      "26        1.0\n",
      "27        1.0\n",
      "28        1.0\n",
      "29        1.0\n",
      "30        1.0\n",
      "31        1.0\n",
      "         ... \n",
      "887194    1.0\n",
      "887198    1.0\n",
      "887202    1.0\n",
      "887215    1.0\n",
      "887231    1.0\n",
      "887248    1.0\n",
      "887249    1.0\n",
      "887254    1.0\n",
      "887263    1.0\n",
      "887264    1.0\n",
      "887268    1.0\n",
      "887275    1.0\n",
      "887276    1.0\n",
      "887279    1.0\n",
      "887280    1.0\n",
      "887290    1.0\n",
      "887303    1.0\n",
      "887308    1.0\n",
      "887322    1.0\n",
      "887330    1.0\n",
      "887332    1.0\n",
      "887337    1.0\n",
      "887345    1.0\n",
      "887346    1.0\n",
      "887347    1.0\n",
      "887351    1.0\n",
      "887364    1.0\n",
      "887366    1.0\n",
      "887369    1.0\n",
      "887371    1.0\n",
      "Name: policy_code, Length: 222076, dtype: float64>\n"
     ]
    },
    {
     "data": {
      "text/plain": [
       "222076"
      ]
     },
     "execution_count": 411,
     "metadata": {},
     "output_type": "execute_result"
    }
   ],
   "source": [
    "print(df_loan_2010_clean['policy_code'].unique)\n",
    "(df_loan_2010_clean['policy_code']==1).sum()\n",
    "#policy code has only 1 value, so excluding that"
   ]
  },
  {
   "cell_type": "code",
   "execution_count": 412,
   "metadata": {},
   "outputs": [
    {
     "data": {
      "text/plain": [
       "INDIVIDUAL    222073\n",
       "JOINT              3\n",
       "Name: application_type, dtype: int64"
      ]
     },
     "execution_count": 412,
     "metadata": {},
     "output_type": "execute_result"
    }
   ],
   "source": [
    "df_loan_2010_clean['application_type'].value_counts()\n",
    "#since there are only 3 joint applications, we can exlude other joint account related columns such as annual_inc_joint, \n",
    "#dti_joint,and verification_status_joint"
   ]
  },
  {
   "cell_type": "code",
   "execution_count": 413,
   "metadata": {},
   "outputs": [
    {
     "name": "stdout",
     "output_type": "stream",
     "text": [
      "<bound method Series.unique of 0         0.0\n",
      "1         0.0\n",
      "2         0.0\n",
      "3         0.0\n",
      "5         0.0\n",
      "7         0.0\n",
      "8         0.0\n",
      "9         0.0\n",
      "10        0.0\n",
      "11        0.0\n",
      "12        0.0\n",
      "13        0.0\n",
      "14        0.0\n",
      "15        0.0\n",
      "16        0.0\n",
      "17        0.0\n",
      "18        0.0\n",
      "19        0.0\n",
      "20        0.0\n",
      "21        0.0\n",
      "22        0.0\n",
      "23        0.0\n",
      "24        0.0\n",
      "25        0.0\n",
      "26        0.0\n",
      "27        0.0\n",
      "28        0.0\n",
      "29        0.0\n",
      "30        0.0\n",
      "31        0.0\n",
      "         ... \n",
      "887194    0.0\n",
      "887198    0.0\n",
      "887202    0.0\n",
      "887215    0.0\n",
      "887231    0.0\n",
      "887248    0.0\n",
      "887249    0.0\n",
      "887254    0.0\n",
      "887263    0.0\n",
      "887264    0.0\n",
      "887268    0.0\n",
      "887275    0.0\n",
      "887276    0.0\n",
      "887279    0.0\n",
      "887280    0.0\n",
      "887290    0.0\n",
      "887303    0.0\n",
      "887308    0.0\n",
      "887322    0.0\n",
      "887330    0.0\n",
      "887332    0.0\n",
      "887337    0.0\n",
      "887345    0.0\n",
      "887346    0.0\n",
      "887347    0.0\n",
      "887351    0.0\n",
      "887364    0.0\n",
      "887366    0.0\n",
      "887369    0.0\n",
      "887371    0.0\n",
      "Name: acc_now_delinq, Length: 222076, dtype: float64>\n"
     ]
    },
    {
     "data": {
      "text/plain": [
       "221351"
      ]
     },
     "execution_count": 413,
     "metadata": {},
     "output_type": "execute_result"
    }
   ],
   "source": [
    "print(df_loan_2010_clean['acc_now_delinq'].unique)\n",
    "(df_loan_2010_clean['acc_now_delinq']==0).sum()\n",
    "#221351 rows is equal to 0, so excluding that since almost 95% value is 0."
   ]
  },
  {
   "cell_type": "code",
   "execution_count": 414,
   "metadata": {},
   "outputs": [
    {
     "name": "stdout",
     "output_type": "stream",
     "text": [
      "51745\n",
      "<bound method Series.unique of 0            NaN\n",
      "1            NaN\n",
      "2            NaN\n",
      "3            NaN\n",
      "5            NaN\n",
      "7            NaN\n",
      "8            NaN\n",
      "9            NaN\n",
      "10           NaN\n",
      "11           NaN\n",
      "12           NaN\n",
      "13           NaN\n",
      "14           NaN\n",
      "15           NaN\n",
      "16           NaN\n",
      "17           NaN\n",
      "18           NaN\n",
      "19           NaN\n",
      "20           NaN\n",
      "21           NaN\n",
      "22           NaN\n",
      "23           NaN\n",
      "24           NaN\n",
      "25           NaN\n",
      "26           NaN\n",
      "27           NaN\n",
      "28           NaN\n",
      "29           NaN\n",
      "30           NaN\n",
      "31           NaN\n",
      "           ...  \n",
      "887194       0.0\n",
      "887198       0.0\n",
      "887202       0.0\n",
      "887215       0.0\n",
      "887231       0.0\n",
      "887248       0.0\n",
      "887249       0.0\n",
      "887254       0.0\n",
      "887263       0.0\n",
      "887264       0.0\n",
      "887268       0.0\n",
      "887275       0.0\n",
      "887276       0.0\n",
      "887279       0.0\n",
      "887280       0.0\n",
      "887290       0.0\n",
      "887303       0.0\n",
      "887308       0.0\n",
      "887322       0.0\n",
      "887330       0.0\n",
      "887332       0.0\n",
      "887337       0.0\n",
      "887345       0.0\n",
      "887346    2140.0\n",
      "887347       0.0\n",
      "887351       0.0\n",
      "887364       0.0\n",
      "887366       0.0\n",
      "887369       0.0\n",
      "887371     972.0\n",
      "Name: tot_coll_amt, Length: 222076, dtype: float64>\n"
     ]
    },
    {
     "data": {
      "text/plain": [
       "150450"
      ]
     },
     "execution_count": 414,
     "metadata": {},
     "output_type": "execute_result"
    }
   ],
   "source": [
    "print((df_loan_2010_clean.tot_coll_amt.isna()).sum())\n",
    "print(df_loan_2010_clean['tot_coll_amt'].unique)\n",
    "(df_loan_2010_clean['tot_coll_amt']==0).sum()\n",
    "#there are 51745 N/As and 150450 zeros, so excluding that column\n",
    "#there are several other columns with almost 95% n/a values, excluding those.\n",
    "#those column are "
   ]
  },
  {
   "cell_type": "markdown",
   "metadata": {},
   "source": [
    "There are several other columns with almost 95% n/a values, so excluding those. Those columns are open_acc_6m, mths_since_rcnt_il, open_rv_24m, ing_fi, open_il_24m, \n",
    "open_rv_12m, total_rev_hi_lim, open_il_12m, il_util, all_util, \n",
    "open_il_6m, total_bal_bc, total_cu_tl, max_bal_bc\n",
    "\n",
    "The final list of columns below:\n",
    "id,loan_amnt,int_rate,term,installment,sub_grade,emp_length,home_ownership,annual_inc,verification_status,issue_d,addr_state,\n",
    "dti,earliest_cr_line,inq_last_6mths,mths_since_last_delinq,mths_since_last_record,open_acc,revol_bal,revol_util,total_acc,\n",
    "last_credit_pull_d,mths_since_last_major_derog,tot_cur_bal,total_rev_hi_lim,loan_class,purpose\n"
   ]
  },
  {
   "cell_type": "code",
   "execution_count": 415,
   "metadata": {},
   "outputs": [],
   "source": [
    "df_clean = df_loan_2010_clean[['id', 'loan_amnt','int_rate','term','installment','grade','emp_length','home_ownership','annual_inc','verification_status','issue_d','addr_state','dti','earliest_cr_line','inq_last_6mths','mths_since_last_delinq','mths_since_last_record','open_acc','revol_bal','revol_util','total_acc','last_credit_pull_d','mths_since_last_major_derog','tot_cur_bal','total_rev_hi_lim', 'purpose', 'loan_status']]"
   ]
  },
  {
   "cell_type": "code",
   "execution_count": 416,
   "metadata": {},
   "outputs": [
    {
     "data": {
      "text/html": [
       "<div>\n",
       "<style scoped>\n",
       "    .dataframe tbody tr th:only-of-type {\n",
       "        vertical-align: middle;\n",
       "    }\n",
       "\n",
       "    .dataframe tbody tr th {\n",
       "        vertical-align: top;\n",
       "    }\n",
       "\n",
       "    .dataframe thead th {\n",
       "        text-align: right;\n",
       "    }\n",
       "</style>\n",
       "<table border=\"1\" class=\"dataframe\">\n",
       "  <thead>\n",
       "    <tr style=\"text-align: right;\">\n",
       "      <th></th>\n",
       "      <th>id</th>\n",
       "      <th>loan_amnt</th>\n",
       "      <th>int_rate</th>\n",
       "      <th>term</th>\n",
       "      <th>installment</th>\n",
       "      <th>grade</th>\n",
       "      <th>emp_length</th>\n",
       "      <th>home_ownership</th>\n",
       "      <th>annual_inc</th>\n",
       "      <th>verification_status</th>\n",
       "      <th>...</th>\n",
       "      <th>open_acc</th>\n",
       "      <th>revol_bal</th>\n",
       "      <th>revol_util</th>\n",
       "      <th>total_acc</th>\n",
       "      <th>last_credit_pull_d</th>\n",
       "      <th>mths_since_last_major_derog</th>\n",
       "      <th>tot_cur_bal</th>\n",
       "      <th>total_rev_hi_lim</th>\n",
       "      <th>purpose</th>\n",
       "      <th>loan_status</th>\n",
       "    </tr>\n",
       "  </thead>\n",
       "  <tbody>\n",
       "    <tr>\n",
       "      <th>0</th>\n",
       "      <td>1077501</td>\n",
       "      <td>5000.0</td>\n",
       "      <td>10.65</td>\n",
       "      <td>36 months</td>\n",
       "      <td>162.87</td>\n",
       "      <td>B</td>\n",
       "      <td>10+ years</td>\n",
       "      <td>RENT</td>\n",
       "      <td>24000.0</td>\n",
       "      <td>Verified</td>\n",
       "      <td>...</td>\n",
       "      <td>3.0</td>\n",
       "      <td>13648.0</td>\n",
       "      <td>83.7</td>\n",
       "      <td>9.0</td>\n",
       "      <td>Jan-2016</td>\n",
       "      <td>NaN</td>\n",
       "      <td>NaN</td>\n",
       "      <td>NaN</td>\n",
       "      <td>credit_card</td>\n",
       "      <td>Fully Paid</td>\n",
       "    </tr>\n",
       "    <tr>\n",
       "      <th>1</th>\n",
       "      <td>1077430</td>\n",
       "      <td>2500.0</td>\n",
       "      <td>15.27</td>\n",
       "      <td>60 months</td>\n",
       "      <td>59.83</td>\n",
       "      <td>C</td>\n",
       "      <td>&lt; 1 year</td>\n",
       "      <td>RENT</td>\n",
       "      <td>30000.0</td>\n",
       "      <td>Source Verified</td>\n",
       "      <td>...</td>\n",
       "      <td>3.0</td>\n",
       "      <td>1687.0</td>\n",
       "      <td>9.4</td>\n",
       "      <td>4.0</td>\n",
       "      <td>Sep-2013</td>\n",
       "      <td>NaN</td>\n",
       "      <td>NaN</td>\n",
       "      <td>NaN</td>\n",
       "      <td>car</td>\n",
       "      <td>Charged Off</td>\n",
       "    </tr>\n",
       "    <tr>\n",
       "      <th>2</th>\n",
       "      <td>1077175</td>\n",
       "      <td>2400.0</td>\n",
       "      <td>15.96</td>\n",
       "      <td>36 months</td>\n",
       "      <td>84.33</td>\n",
       "      <td>C</td>\n",
       "      <td>10+ years</td>\n",
       "      <td>RENT</td>\n",
       "      <td>12252.0</td>\n",
       "      <td>Not Verified</td>\n",
       "      <td>...</td>\n",
       "      <td>2.0</td>\n",
       "      <td>2956.0</td>\n",
       "      <td>98.5</td>\n",
       "      <td>10.0</td>\n",
       "      <td>Jan-2016</td>\n",
       "      <td>NaN</td>\n",
       "      <td>NaN</td>\n",
       "      <td>NaN</td>\n",
       "      <td>small_business</td>\n",
       "      <td>Fully Paid</td>\n",
       "    </tr>\n",
       "    <tr>\n",
       "      <th>3</th>\n",
       "      <td>1076863</td>\n",
       "      <td>10000.0</td>\n",
       "      <td>13.49</td>\n",
       "      <td>36 months</td>\n",
       "      <td>339.31</td>\n",
       "      <td>C</td>\n",
       "      <td>10+ years</td>\n",
       "      <td>RENT</td>\n",
       "      <td>49200.0</td>\n",
       "      <td>Source Verified</td>\n",
       "      <td>...</td>\n",
       "      <td>10.0</td>\n",
       "      <td>5598.0</td>\n",
       "      <td>21.0</td>\n",
       "      <td>37.0</td>\n",
       "      <td>Jan-2015</td>\n",
       "      <td>NaN</td>\n",
       "      <td>NaN</td>\n",
       "      <td>NaN</td>\n",
       "      <td>other</td>\n",
       "      <td>Fully Paid</td>\n",
       "    </tr>\n",
       "    <tr>\n",
       "      <th>5</th>\n",
       "      <td>1075269</td>\n",
       "      <td>5000.0</td>\n",
       "      <td>7.90</td>\n",
       "      <td>36 months</td>\n",
       "      <td>156.46</td>\n",
       "      <td>A</td>\n",
       "      <td>3 years</td>\n",
       "      <td>RENT</td>\n",
       "      <td>36000.0</td>\n",
       "      <td>Source Verified</td>\n",
       "      <td>...</td>\n",
       "      <td>9.0</td>\n",
       "      <td>7963.0</td>\n",
       "      <td>28.3</td>\n",
       "      <td>12.0</td>\n",
       "      <td>Sep-2015</td>\n",
       "      <td>NaN</td>\n",
       "      <td>NaN</td>\n",
       "      <td>NaN</td>\n",
       "      <td>wedding</td>\n",
       "      <td>Fully Paid</td>\n",
       "    </tr>\n",
       "  </tbody>\n",
       "</table>\n",
       "<p>5 rows × 27 columns</p>\n",
       "</div>"
      ],
      "text/plain": [
       "        id  loan_amnt  int_rate        term  installment grade emp_length  \\\n",
       "0  1077501     5000.0     10.65   36 months       162.87     B  10+ years   \n",
       "1  1077430     2500.0     15.27   60 months        59.83     C   < 1 year   \n",
       "2  1077175     2400.0     15.96   36 months        84.33     C  10+ years   \n",
       "3  1076863    10000.0     13.49   36 months       339.31     C  10+ years   \n",
       "5  1075269     5000.0      7.90   36 months       156.46     A    3 years   \n",
       "\n",
       "  home_ownership  annual_inc verification_status     ...      open_acc  \\\n",
       "0           RENT     24000.0            Verified     ...           3.0   \n",
       "1           RENT     30000.0     Source Verified     ...           3.0   \n",
       "2           RENT     12252.0        Not Verified     ...           2.0   \n",
       "3           RENT     49200.0     Source Verified     ...          10.0   \n",
       "5           RENT     36000.0     Source Verified     ...           9.0   \n",
       "\n",
       "  revol_bal  revol_util total_acc  last_credit_pull_d  \\\n",
       "0   13648.0        83.7       9.0            Jan-2016   \n",
       "1    1687.0         9.4       4.0            Sep-2013   \n",
       "2    2956.0        98.5      10.0            Jan-2016   \n",
       "3    5598.0        21.0      37.0            Jan-2015   \n",
       "5    7963.0        28.3      12.0            Sep-2015   \n",
       "\n",
       "   mths_since_last_major_derog  tot_cur_bal  total_rev_hi_lim         purpose  \\\n",
       "0                          NaN          NaN               NaN     credit_card   \n",
       "1                          NaN          NaN               NaN             car   \n",
       "2                          NaN          NaN               NaN  small_business   \n",
       "3                          NaN          NaN               NaN           other   \n",
       "5                          NaN          NaN               NaN         wedding   \n",
       "\n",
       "   loan_status  \n",
       "0   Fully Paid  \n",
       "1  Charged Off  \n",
       "2   Fully Paid  \n",
       "3   Fully Paid  \n",
       "5   Fully Paid  \n",
       "\n",
       "[5 rows x 27 columns]"
      ]
     },
     "execution_count": 416,
     "metadata": {},
     "output_type": "execute_result"
    }
   ],
   "source": [
    "df_clean.head()"
   ]
  },
  {
   "cell_type": "markdown",
   "metadata": {},
   "source": [
    "# Feature Transformation"
   ]
  },
  {
   "cell_type": "markdown",
   "metadata": {},
   "source": [
    "Identify Target Variable - Custom Binary Encoding to classify loans into Good and Bad where Good = when loan status is \"Fully Paid\" or \"Does not meet the credit policy. Status:Fully Paid\" and Bad = \"Charged Off\", \"Default\" and \"Does not meet the credit policy. Status:Charged Off\".\n",
    "The target variable is loan_class"
   ]
  },
  {
   "cell_type": "code",
   "execution_count": 417,
   "metadata": {},
   "outputs": [
    {
     "name": "stderr",
     "output_type": "stream",
     "text": [
      "C:\\Users\\Ann\\Anaconda3\\lib\\site-packages\\ipykernel_launcher.py:3: SettingWithCopyWarning: \n",
      "A value is trying to be set on a copy of a slice from a DataFrame.\n",
      "Try using .loc[row_indexer,col_indexer] = value instead\n",
      "\n",
      "See the caveats in the documentation: http://pandas.pydata.org/pandas-docs/stable/indexing.html#indexing-view-versus-copy\n",
      "  This is separate from the ipykernel package so we can avoid doing imports until\n"
     ]
    }
   ],
   "source": [
    "#Custom Binary Encoding to classify loans into Good and Bad where Good = when loan status is Fully Paid or Does not meet the \n",
    "#credit policy. Status:Fully Paid and Bad = Charged Off, Default and Does not meet the credit policy. Status:Charged Off.\n",
    "df_clean['loan_class'] = np.where(df_clean['loan_status'].isin(['Fully Paid','Does not meet the credit policy. Status:Fully Paid']) == True, 'Good', 'Bad')"
   ]
  },
  {
   "cell_type": "code",
   "execution_count": 418,
   "metadata": {},
   "outputs": [
    {
     "data": {
      "text/plain": [
       "Good    173404\n",
       "Bad      48672\n",
       "Name: loan_class, dtype: int64"
      ]
     },
     "execution_count": 418,
     "metadata": {},
     "output_type": "execute_result"
    }
   ],
   "source": [
    "df_clean['loan_class'].value_counts()"
   ]
  },
  {
   "cell_type": "code",
   "execution_count": 419,
   "metadata": {
    "scrolled": true
   },
   "outputs": [
    {
     "data": {
      "text/plain": [
       "(222076, 28)"
      ]
     },
     "execution_count": 419,
     "metadata": {},
     "output_type": "execute_result"
    }
   ],
   "source": [
    "df_clean.shape\n",
    "#we have 27 columns from 75"
   ]
  },
  {
   "cell_type": "code",
   "execution_count": 420,
   "metadata": {},
   "outputs": [
    {
     "data": {
      "text/plain": [
       "id                                  0\n",
       "loan_amnt                           0\n",
       "int_rate                            0\n",
       "term                                0\n",
       "installment                         0\n",
       "grade                               0\n",
       "emp_length                       8923\n",
       "home_ownership                      0\n",
       "annual_inc                          2\n",
       "verification_status                 0\n",
       "issue_d                             0\n",
       "addr_state                          0\n",
       "dti                                 0\n",
       "earliest_cr_line                   25\n",
       "inq_last_6mths                     25\n",
       "mths_since_last_delinq         122062\n",
       "mths_since_last_record         193276\n",
       "open_acc                           25\n",
       "revol_bal                           0\n",
       "revol_util                        204\n",
       "total_acc                          25\n",
       "last_credit_pull_d                 20\n",
       "mths_since_last_major_derog    178856\n",
       "tot_cur_bal                     51745\n",
       "total_rev_hi_lim                51745\n",
       "purpose                             0\n",
       "loan_status                         0\n",
       "loan_class                          0\n",
       "dtype: int64"
      ]
     },
     "execution_count": 420,
     "metadata": {},
     "output_type": "execute_result"
    }
   ],
   "source": [
    "df_clean.isna().sum()"
   ]
  },
  {
   "cell_type": "code",
   "execution_count": 421,
   "metadata": {},
   "outputs": [
    {
     "data": {
      "text/plain": [
       "10+ years    67383\n",
       "2 years      20663\n",
       "< 1 year     18566\n",
       "3 years      17958\n",
       "5 years      15608\n",
       "1 year       14877\n",
       "4 years      14097\n",
       "6 years      12897\n",
       "7 years      12342\n",
       "8 years      10371\n",
       "9 years       8391\n",
       "Name: emp_length, dtype: int64"
      ]
     },
     "execution_count": 421,
     "metadata": {},
     "output_type": "execute_result"
    }
   ],
   "source": [
    "df_clean.emp_length.value_counts()"
   ]
  },
  {
   "cell_type": "code",
   "execution_count": 422,
   "metadata": {},
   "outputs": [
    {
     "name": "stderr",
     "output_type": "stream",
     "text": [
      "C:\\Users\\Ann\\Anaconda3\\lib\\site-packages\\ipykernel_launcher.py:1: SettingWithCopyWarning: \n",
      "A value is trying to be set on a copy of a slice from a DataFrame.\n",
      "Try using .loc[row_indexer,col_indexer] = value instead\n",
      "\n",
      "See the caveats in the documentation: http://pandas.pydata.org/pandas-docs/stable/indexing.html#indexing-view-versus-copy\n",
      "  \"\"\"Entry point for launching an IPython kernel.\n",
      "C:\\Users\\Ann\\Anaconda3\\lib\\site-packages\\pandas\\core\\generic.py:5886: SettingWithCopyWarning: \n",
      "A value is trying to be set on a copy of a slice from a DataFrame\n",
      "\n",
      "See the caveats in the documentation: http://pandas.pydata.org/pandas-docs/stable/indexing.html#indexing-view-versus-copy\n",
      "  self._update_inplace(new_data)\n"
     ]
    },
    {
     "data": {
      "text/plain": [
       "10.0    67383\n",
       "2.0     20663\n",
       "0.9     18566\n",
       "3.0     17958\n",
       "5.0     15608\n",
       "1.0     14877\n",
       "4.0     14097\n",
       "6.0     12897\n",
       "7.0     12342\n",
       "8.0     10371\n",
       "0.0      8923\n",
       "9.0      8391\n",
       "Name: emp_length, dtype: int64"
      ]
     },
     "execution_count": 422,
     "metadata": {},
     "output_type": "execute_result"
    }
   ],
   "source": [
    "df_clean['emp_length'] = df_clean['emp_length'].fillna(0)\n",
    "df_clean['emp_length'].replace('10+ years', 10,inplace=True)\n",
    "df_clean['emp_length'].replace('9 years', 9,inplace=True)\n",
    "df_clean['emp_length'].replace('8 years', 8,inplace=True)\n",
    "df_clean['emp_length'].replace('7 years', 7,inplace=True)\n",
    "df_clean['emp_length'].replace('6 years', 6,inplace=True)\n",
    "df_clean['emp_length'].replace('5 years', 5,inplace=True)\n",
    "df_clean['emp_length'].replace('4 years', 4,inplace=True)\n",
    "df_clean['emp_length'].replace('3 years', 3,inplace=True)\n",
    "df_clean['emp_length'].replace('2 years', 2,inplace=True)\n",
    "df_clean['emp_length'].replace('1 year', 1,inplace=True)\n",
    "df_clean['emp_length'].replace('< 1 year', 0.9,inplace=True)\n",
    "\n",
    "df_clean['emp_length'].value_counts()\n",
    "#fixed emp lenght N/As and converted characters to numeric"
   ]
  },
  {
   "cell_type": "code",
   "execution_count": 423,
   "metadata": {},
   "outputs": [
    {
     "name": "stdout",
     "output_type": "stream",
     "text": [
      "Verified           81313\n",
      "Not Verified       74403\n",
      "Source Verified    66360\n",
      "Name: verification_status, dtype: int64\n",
      "1    147673\n",
      "0     74403\n",
      "Name: ver_stat, dtype: int64\n"
     ]
    },
    {
     "name": "stderr",
     "output_type": "stream",
     "text": [
      "C:\\Users\\Ann\\Anaconda3\\lib\\site-packages\\ipykernel_launcher.py:2: SettingWithCopyWarning: \n",
      "A value is trying to be set on a copy of a slice from a DataFrame.\n",
      "Try using .loc[row_indexer,col_indexer] = value instead\n",
      "\n",
      "See the caveats in the documentation: http://pandas.pydata.org/pandas-docs/stable/indexing.html#indexing-view-versus-copy\n",
      "  \n"
     ]
    }
   ],
   "source": [
    "print(df_clean.verification_status.value_counts())\n",
    "df_clean['ver_stat'] = np.where(df_clean['verification_status'].isin(['Verified','Source Verified']) == True, 1, 0)\n",
    "print((df_clean.ver_stat).value_counts())\n",
    "#converted characters to numeric. Verified (both verified and source verified) is 1 and not verified is 0."
   ]
  },
  {
   "cell_type": "code",
   "execution_count": 424,
   "metadata": {
    "scrolled": true
   },
   "outputs": [
    {
     "data": {
      "text/plain": [
       "1    108981\n",
       "2     93590\n",
       "3     19318\n",
       "4       143\n",
       "Name: home_ownership, dtype: int64"
      ]
     },
     "execution_count": 424,
     "metadata": {},
     "output_type": "execute_result"
    }
   ],
   "source": [
    "df_clean.home_ownership.value_counts()\n",
    "df_clean=df_clean[~df_clean['home_ownership'].isin(['NONE','ANY'])]\n",
    "\n",
    "df_clean['home_ownership'].replace('OTHER', 4,inplace=True)\n",
    "df_clean['home_ownership'].replace('OWN', 3,inplace=True)\n",
    "df_clean['home_ownership'].replace('RENT', 2,inplace=True)\n",
    "df_clean['home_ownership'].replace('MORTGAGE', 1,inplace=True)\n",
    "\n",
    "df_clean.home_ownership.value_counts()"
   ]
  },
  {
   "cell_type": "code",
   "execution_count": 425,
   "metadata": {},
   "outputs": [],
   "source": [
    "df_clean=df_clean[df_clean.annual_inc>0]\n",
    "#fixed annual income n/a by removing those 2 values"
   ]
  },
  {
   "cell_type": "code",
   "execution_count": 426,
   "metadata": {
    "scrolled": true
   },
   "outputs": [
    {
     "name": "stdout",
     "output_type": "stream",
     "text": [
      "0    Jan-1985\n",
      "1    Apr-1999\n",
      "2    Nov-2001\n",
      "3    Feb-1996\n",
      "5    Nov-2004\n",
      "Name: earliest_cr_line, dtype: object\n"
     ]
    }
   ],
   "source": [
    "print(df_clean.earliest_cr_line.head())\n",
    "df_clean=df_clean[df_clean.earliest_cr_line.isna()==False]\n",
    "#dropped n/a since they were dates and cannot be replaced by a dummy variable but using it later to calculate the number of years\n",
    "#the credit line existed at the time of loan issue"
   ]
  },
  {
   "cell_type": "code",
   "execution_count": 427,
   "metadata": {
    "scrolled": false
   },
   "outputs": [
    {
     "name": "stdout",
     "output_type": "stream",
     "text": [
      "0    Jan-2016\n",
      "1    Sep-2013\n",
      "2    Jan-2016\n",
      "3    Jan-2015\n",
      "5    Sep-2015\n",
      "Name: last_credit_pull_d, dtype: object\n"
     ]
    }
   ],
   "source": [
    "print(df_clean.last_credit_pull_d.head())\n",
    "df_clean=df_clean[df_clean.last_credit_pull_d.isna()==False]\n",
    "#dropped n/a since they were dates and cannot be replaced by a dummy variable"
   ]
  },
  {
   "cell_type": "code",
   "execution_count": 428,
   "metadata": {},
   "outputs": [
    {
     "data": {
      "text/plain": [
       "id                                  0\n",
       "loan_amnt                           0\n",
       "int_rate                            0\n",
       "term                                0\n",
       "installment                         0\n",
       "grade                               0\n",
       "emp_length                          0\n",
       "home_ownership                      0\n",
       "annual_inc                          0\n",
       "verification_status                 0\n",
       "issue_d                             0\n",
       "addr_state                          0\n",
       "dti                                 0\n",
       "earliest_cr_line                    0\n",
       "inq_last_6mths                      0\n",
       "mths_since_last_delinq              0\n",
       "mths_since_last_record              0\n",
       "open_acc                            0\n",
       "revol_bal                           0\n",
       "revol_util                        179\n",
       "total_acc                           0\n",
       "last_credit_pull_d                  0\n",
       "mths_since_last_major_derog    178787\n",
       "tot_cur_bal                     51717\n",
       "total_rev_hi_lim                51717\n",
       "purpose                             0\n",
       "loan_status                         0\n",
       "loan_class                          0\n",
       "ver_stat                            0\n",
       "dtype: int64"
      ]
     },
     "execution_count": 428,
     "metadata": {},
     "output_type": "execute_result"
    }
   ],
   "source": [
    "df_clean['mths_since_last_delinq'] = df_clean['mths_since_last_delinq'].fillna(0)\n",
    "df_clean['mths_since_last_record'] = df_clean['mths_since_last_record'].fillna(0)\n",
    "#replaced n/a with zero\n",
    "df_clean.isna().sum()"
   ]
  },
  {
   "cell_type": "code",
   "execution_count": 429,
   "metadata": {},
   "outputs": [
    {
     "data": {
      "text/plain": [
       "id                                  0\n",
       "loan_amnt                           0\n",
       "int_rate                            0\n",
       "term                                0\n",
       "installment                         0\n",
       "grade                               0\n",
       "emp_length                          0\n",
       "home_ownership                      0\n",
       "annual_inc                          0\n",
       "verification_status                 0\n",
       "issue_d                             0\n",
       "addr_state                          0\n",
       "dti                                 0\n",
       "earliest_cr_line                    0\n",
       "inq_last_6mths                      0\n",
       "mths_since_last_delinq              0\n",
       "mths_since_last_record              0\n",
       "open_acc                            0\n",
       "revol_bal                           0\n",
       "revol_util                          0\n",
       "total_acc                           0\n",
       "last_credit_pull_d                  0\n",
       "mths_since_last_major_derog    178639\n",
       "tot_cur_bal                     51644\n",
       "total_rev_hi_lim                51644\n",
       "purpose                             0\n",
       "loan_status                         0\n",
       "loan_class                          0\n",
       "ver_stat                            0\n",
       "dtype: int64"
      ]
     },
     "execution_count": 429,
     "metadata": {},
     "output_type": "execute_result"
    }
   ],
   "source": [
    "df_clean=df_clean[df_clean.revol_util.isna()==False]\n",
    "df_clean.isna().sum()"
   ]
  },
  {
   "cell_type": "code",
   "execution_count": 430,
   "metadata": {},
   "outputs": [
    {
     "name": "stdout",
     "output_type": "stream",
     "text": [
      "45.0     719\n",
      "46.0     707\n",
      "48.0     704\n",
      "43.0     702\n",
      "42.0     696\n",
      "36.0     693\n",
      "35.0     678\n",
      "41.0     676\n",
      "47.0     675\n",
      "37.0     673\n",
      "32.0     661\n",
      "30.0     660\n",
      "34.0     649\n",
      "28.0     647\n",
      "38.0     642\n",
      "27.0     640\n",
      "40.0     636\n",
      "51.0     633\n",
      "49.0     632\n",
      "44.0     628\n",
      "31.0     625\n",
      "52.0     621\n",
      "24.0     620\n",
      "53.0     615\n",
      "29.0     612\n",
      "39.0     608\n",
      "57.0     597\n",
      "26.0     589\n",
      "33.0     586\n",
      "58.0     574\n",
      "        ... \n",
      "126.0      5\n",
      "98.0       5\n",
      "111.0      5\n",
      "117.0      4\n",
      "131.0      4\n",
      "130.0      4\n",
      "125.0      4\n",
      "115.0      4\n",
      "142.0      3\n",
      "124.0      3\n",
      "140.0      3\n",
      "132.0      3\n",
      "133.0      3\n",
      "128.0      3\n",
      "116.0      3\n",
      "134.0      3\n",
      "137.0      3\n",
      "127.0      3\n",
      "148.0      2\n",
      "135.0      2\n",
      "150.0      2\n",
      "136.0      2\n",
      "152.0      2\n",
      "129.0      2\n",
      "138.0      1\n",
      "139.0      1\n",
      "141.0      1\n",
      "154.0      1\n",
      "145.0      1\n",
      "159.0      1\n",
      "Name: mths_since_last_major_derog, Length: 149, dtype: int64\n"
     ]
    },
    {
     "data": {
      "text/plain": [
       "id                                 0\n",
       "loan_amnt                          0\n",
       "int_rate                           0\n",
       "term                               0\n",
       "installment                        0\n",
       "grade                              0\n",
       "emp_length                         0\n",
       "home_ownership                     0\n",
       "annual_inc                         0\n",
       "verification_status                0\n",
       "issue_d                            0\n",
       "addr_state                         0\n",
       "dti                                0\n",
       "earliest_cr_line                   0\n",
       "inq_last_6mths                     0\n",
       "mths_since_last_delinq             0\n",
       "mths_since_last_record             0\n",
       "open_acc                           0\n",
       "revol_bal                          0\n",
       "revol_util                         0\n",
       "total_acc                          0\n",
       "last_credit_pull_d                 0\n",
       "mths_since_last_major_derog        0\n",
       "tot_cur_bal                    51644\n",
       "total_rev_hi_lim               51644\n",
       "purpose                            0\n",
       "loan_status                        0\n",
       "loan_class                         0\n",
       "ver_stat                           0\n",
       "dtype: int64"
      ]
     },
     "execution_count": 430,
     "metadata": {},
     "output_type": "execute_result"
    }
   ],
   "source": [
    "print(df_clean.mths_since_last_major_derog.value_counts())\n",
    "df_clean['mths_since_last_major_derog'] = df_clean['mths_since_last_major_derog'].fillna(0)\n",
    "#assuming n/a is zero\n",
    "df_clean.isna().sum()"
   ]
  },
  {
   "cell_type": "code",
   "execution_count": 431,
   "metadata": {},
   "outputs": [
    {
     "name": "stdout",
     "output_type": "stream",
     "text": [
      "count    1.701660e+05\n",
      "mean     1.365971e+05\n",
      "std      1.516483e+05\n",
      "min      0.000000e+00\n",
      "25%      2.818700e+04\n",
      "50%      7.845600e+04\n",
      "75%      2.054702e+05\n",
      "max      8.000078e+06\n",
      "Name: tot_cur_bal, dtype: float64\n"
     ]
    },
    {
     "data": {
      "text/plain": [
       "id                             0\n",
       "loan_amnt                      0\n",
       "int_rate                       0\n",
       "term                           0\n",
       "installment                    0\n",
       "grade                          0\n",
       "emp_length                     0\n",
       "home_ownership                 0\n",
       "annual_inc                     0\n",
       "verification_status            0\n",
       "issue_d                        0\n",
       "addr_state                     0\n",
       "dti                            0\n",
       "earliest_cr_line               0\n",
       "inq_last_6mths                 0\n",
       "mths_since_last_delinq         0\n",
       "mths_since_last_record         0\n",
       "open_acc                       0\n",
       "revol_bal                      0\n",
       "revol_util                     0\n",
       "total_acc                      0\n",
       "last_credit_pull_d             0\n",
       "mths_since_last_major_derog    0\n",
       "tot_cur_bal                    0\n",
       "total_rev_hi_lim               0\n",
       "purpose                        0\n",
       "loan_status                    0\n",
       "loan_class                     0\n",
       "ver_stat                       0\n",
       "dtype: int64"
      ]
     },
     "execution_count": 431,
     "metadata": {},
     "output_type": "execute_result"
    }
   ],
   "source": [
    "print(df_clean.tot_cur_bal.describe())\n",
    "df_clean['tot_cur_bal'] = df_clean['tot_cur_bal'].fillna(0)\n",
    "df_clean['total_rev_hi_lim'] = df_clean['total_rev_hi_lim'].fillna(0)\n",
    "#assuming n/a is zero\n",
    "df_clean.isna().sum()"
   ]
  },
  {
   "cell_type": "code",
   "execution_count": 436,
   "metadata": {},
   "outputs": [],
   "source": [
    "df_clean.earliest_cr_line_yr = (pd.to_datetime(df_clean.issue_d)-pd.to_datetime(df_clean.earliest_cr_line)).dt.days/365\n",
    "#creating a new column for years of credit line at the time of application\n",
    "#not considering last credit pull date"
   ]
  },
  {
   "cell_type": "code",
   "execution_count": 437,
   "metadata": {},
   "outputs": [
    {
     "data": {
      "text/plain": [
       "count    221810.000000\n",
       "mean         15.268122\n",
       "std           7.050296\n",
       "min           0.504110\n",
       "25%          10.589041\n",
       "50%          13.928767\n",
       "75%          18.761644\n",
       "max          66.131507\n",
       "dtype: float64"
      ]
     },
     "execution_count": 437,
     "metadata": {},
     "output_type": "execute_result"
    }
   ],
   "source": [
    "df_clean.earliest_cr_line_yr.describe()"
   ]
  },
  {
   "cell_type": "code",
   "execution_count": 438,
   "metadata": {},
   "outputs": [
    {
     "name": "stdout",
     "output_type": "stream",
     "text": [
      "0          36 months\n",
      "1          60 months\n",
      "2          36 months\n",
      "3          36 months\n",
      "5          36 months\n",
      "7          36 months\n",
      "8          60 months\n",
      "9          60 months\n",
      "10         60 months\n",
      "11         36 months\n",
      "12         36 months\n",
      "13         36 months\n",
      "14         36 months\n",
      "15         36 months\n",
      "16         36 months\n",
      "17         36 months\n",
      "18         36 months\n",
      "19         36 months\n",
      "20         60 months\n",
      "21         36 months\n",
      "22         36 months\n",
      "23         36 months\n",
      "24         36 months\n",
      "25         36 months\n",
      "26         36 months\n",
      "27         60 months\n",
      "28         36 months\n",
      "29         36 months\n",
      "30         36 months\n",
      "31         36 months\n",
      "             ...    \n",
      "887194     36 months\n",
      "887198     36 months\n",
      "887202     36 months\n",
      "887215     36 months\n",
      "887231     36 months\n",
      "887248     36 months\n",
      "887249     60 months\n",
      "887254     36 months\n",
      "887263     60 months\n",
      "887264     36 months\n",
      "887268     36 months\n",
      "887275     60 months\n",
      "887276     36 months\n",
      "887279     36 months\n",
      "887280     36 months\n",
      "887290     60 months\n",
      "887303     36 months\n",
      "887308     36 months\n",
      "887322     60 months\n",
      "887330     36 months\n",
      "887332     36 months\n",
      "887337     60 months\n",
      "887345     36 months\n",
      "887346     36 months\n",
      "887347     60 months\n",
      "887351     36 months\n",
      "887364     36 months\n",
      "887366     36 months\n",
      "887369     36 months\n",
      "887371     36 months\n",
      "Name: term, Length: 221810, dtype: object\n",
      "object\n"
     ]
    }
   ],
   "source": [
    "#df_clean.term=df_clean.term.str.replace('36 months','36')\n",
    "#df_clean.term=df_clean.term.str.replace('60 months','60')\n",
    "print(df_clean.term)\n",
    "print(df_clean.term.dtype)"
   ]
  },
  {
   "cell_type": "code",
   "execution_count": 439,
   "metadata": {},
   "outputs": [
    {
     "data": {
      "text/plain": [
       "CA    37588\n",
       "NY    18686\n",
       "TX    17049\n",
       "FL    15448\n",
       "NJ     8383\n",
       "IL     8018\n",
       "PA     7453\n",
       "GA     7032\n",
       "VA     6932\n",
       "OH     6798\n",
       "NC     6127\n",
       "MA     5364\n",
       "AZ     5338\n",
       "MI     5291\n",
       "MD     5285\n",
       "WA     5148\n",
       "CO     4897\n",
       "MN     3875\n",
       "MO     3473\n",
       "NV     3396\n",
       "CT     3194\n",
       "OR     2889\n",
       "AL     2791\n",
       "WI     2722\n",
       "LA     2605\n",
       "IN     2497\n",
       "SC     2463\n",
       "TN     2148\n",
       "KY     1976\n",
       "OK     1905\n",
       "UT     1864\n",
       "KS     1774\n",
       "AR     1516\n",
       "HI     1320\n",
       "NM     1224\n",
       "WV     1000\n",
       "NH      983\n",
       "RI      957\n",
       "DC      693\n",
       "MT      660\n",
       "DE      606\n",
       "AK      604\n",
       "WY      521\n",
       "SD      474\n",
       "MS      417\n",
       "VT      361\n",
       "NE       28\n",
       "ME       12\n",
       "IA       11\n",
       "ND        8\n",
       "ID        6\n",
       "Name: addr_state, dtype: int64"
      ]
     },
     "execution_count": 439,
     "metadata": {},
     "output_type": "execute_result"
    }
   ],
   "source": [
    "df_clean.addr_state.value_counts()\n",
    "#not considering, since there are too many to be converted to numeric values\n",
    "#one solution was to divide states into north, west, south, east"
   ]
  },
  {
   "cell_type": "code",
   "execution_count": 440,
   "metadata": {},
   "outputs": [
    {
     "data": {
      "text/plain": [
       "2    65173\n",
       "3    57729\n",
       "4    36616\n",
       "1    35526\n",
       "5    17805\n",
       "6     7094\n",
       "7     1867\n",
       "Name: grade, dtype: int64"
      ]
     },
     "execution_count": 440,
     "metadata": {},
     "output_type": "execute_result"
    }
   ],
   "source": [
    "df_clean.grade.value_counts()\n",
    "df_clean['grade'].replace('A', 1,inplace=True)\n",
    "df_clean['grade'].replace('B', 2,inplace=True)\n",
    "df_clean['grade'].replace('C', 3,inplace=True)\n",
    "df_clean['grade'].replace('D', 4,inplace=True)\n",
    "df_clean['grade'].replace('E', 5,inplace=True)\n",
    "df_clean['grade'].replace('F', 6,inplace=True)\n",
    "df_clean['grade'].replace('G', 7,inplace=True)\n",
    "df_clean.grade.value_counts()"
   ]
  },
  {
   "cell_type": "markdown",
   "metadata": {},
   "source": [
    "# Variable Selection"
   ]
  },
  {
   "cell_type": "code",
   "execution_count": 441,
   "metadata": {},
   "outputs": [
    {
     "name": "stdout",
     "output_type": "stream",
     "text": [
      "Index(['id', 'loan_amnt', 'int_rate', 'term', 'installment', 'grade',\n",
      "       'emp_length', 'home_ownership', 'annual_inc', 'verification_status',\n",
      "       'issue_d', 'addr_state', 'dti', 'earliest_cr_line', 'inq_last_6mths',\n",
      "       'mths_since_last_delinq', 'mths_since_last_record', 'open_acc',\n",
      "       'revol_bal', 'revol_util', 'total_acc', 'last_credit_pull_d',\n",
      "       'mths_since_last_major_derog', 'tot_cur_bal', 'total_rev_hi_lim',\n",
      "       'purpose', 'loan_status', 'loan_class', 'ver_stat'],\n",
      "      dtype='object')\n",
      "(221810, 29)\n"
     ]
    }
   ],
   "source": [
    "print(df_clean.columns)\n",
    "print(df_clean.shape)"
   ]
  },
  {
   "cell_type": "code",
   "execution_count": 442,
   "metadata": {},
   "outputs": [
    {
     "data": {
      "text/plain": [
       "0    1.0\n",
       "1    5.0\n",
       "2    2.0\n",
       "3    1.0\n",
       "5    3.0\n",
       "Name: inq_last_6mths, dtype: float64"
      ]
     },
     "execution_count": 442,
     "metadata": {},
     "output_type": "execute_result"
    }
   ],
   "source": [
    "df_clean.inq_last_6mths.head()\n"
   ]
  },
  {
   "cell_type": "code",
   "execution_count": 443,
   "metadata": {},
   "outputs": [],
   "source": [
    "df_clean_fin1 = df_clean[['loan_amnt', 'int_rate', 'term', 'installment', 'grade','emp_length', 'home_ownership', 'annual_inc',\n",
    "                           'dti','inq_last_6mths','mths_since_last_delinq', 'mths_since_last_record', 'open_acc',\n",
    "                          'revol_bal', 'revol_util', 'total_acc','mths_since_last_major_derog', 'tot_cur_bal', 'total_rev_hi_lim','purpose', \n",
    "                          'ver_stat','loan_class']]\n",
    "#removing some date columns since we don't need anymore eg: dates"
   ]
  },
  {
   "cell_type": "code",
   "execution_count": 444,
   "metadata": {},
   "outputs": [
    {
     "name": "stdout",
     "output_type": "stream",
     "text": [
      "(221810, 22)\n"
     ]
    },
    {
     "data": {
      "text/plain": [
       "loan_amnt                      0\n",
       "int_rate                       0\n",
       "term                           0\n",
       "installment                    0\n",
       "grade                          0\n",
       "emp_length                     0\n",
       "home_ownership                 0\n",
       "annual_inc                     0\n",
       "dti                            0\n",
       "inq_last_6mths                 0\n",
       "mths_since_last_delinq         0\n",
       "mths_since_last_record         0\n",
       "open_acc                       0\n",
       "revol_bal                      0\n",
       "revol_util                     0\n",
       "total_acc                      0\n",
       "mths_since_last_major_derog    0\n",
       "tot_cur_bal                    0\n",
       "total_rev_hi_lim               0\n",
       "purpose                        0\n",
       "ver_stat                       0\n",
       "loan_class                     0\n",
       "dtype: int64"
      ]
     },
     "execution_count": 444,
     "metadata": {},
     "output_type": "execute_result"
    }
   ],
   "source": [
    "print(df_clean_fin1.shape)\n",
    "df_clean_fin1.isna().sum()"
   ]
  },
  {
   "cell_type": "markdown",
   "metadata": {},
   "source": [
    "# Correlation and Covariance"
   ]
  },
  {
   "cell_type": "code",
   "execution_count": 445,
   "metadata": {},
   "outputs": [],
   "source": [
    "df_num = df_clean_fin1[['loan_amnt', 'int_rate', 'installment','emp_length', 'annual_inc', 'term',\n",
    "                \n",
    "                          'dti','inq_last_6mths','mths_since_last_delinq', 'mths_since_last_record', 'open_acc',\n",
    "       'revol_bal', 'revol_util', 'total_acc',\n",
    "       'mths_since_last_major_derog', 'tot_cur_bal', 'total_rev_hi_lim', 'ver_stat'\n",
    "       ]]"
   ]
  },
  {
   "cell_type": "code",
   "execution_count": 446,
   "metadata": {},
   "outputs": [
    {
     "data": {
      "text/plain": [
       "<bound method DataFrame.corr of         loan_amnt  int_rate  installment  emp_length  annual_inc        term  \\\n",
       "0          5000.0     10.65       162.87        10.0    24000.00   36 months   \n",
       "1          2500.0     15.27        59.83         0.9    30000.00   60 months   \n",
       "2          2400.0     15.96        84.33        10.0    12252.00   36 months   \n",
       "3         10000.0     13.49       339.31        10.0    49200.00   36 months   \n",
       "5          5000.0      7.90       156.46         3.0    36000.00   36 months   \n",
       "7          3000.0     18.64       109.43         9.0    48000.00   36 months   \n",
       "8          5600.0     21.28       152.39         4.0    40000.00   60 months   \n",
       "9          5375.0     12.69       121.45         0.9    15000.00   60 months   \n",
       "10         6500.0     14.65       153.45         5.0    72000.00   60 months   \n",
       "11        12000.0     12.69       402.54        10.0    75000.00   36 months   \n",
       "12         9000.0     13.49       305.38         0.9    30000.00   36 months   \n",
       "13         3000.0      9.91        96.68         3.0    15000.00   36 months   \n",
       "14        10000.0     10.65       325.74         3.0   100000.00   36 months   \n",
       "15         1000.0     16.29        35.31         0.9    28000.00   36 months   \n",
       "16        10000.0     15.27       347.98         4.0    42000.00   36 months   \n",
       "17         3600.0      6.03       109.57        10.0   110000.00   36 months   \n",
       "18         6000.0     11.71       198.46         1.0    84000.00   36 months   \n",
       "19         9200.0      6.03       280.01         6.0    77385.19   36 months   \n",
       "20        20250.0     15.27       484.63         3.0    43370.00   60 months   \n",
       "21        21000.0     12.42       701.73        10.0   105000.00   36 months   \n",
       "22        10000.0     11.71       330.76        10.0    50000.00   36 months   \n",
       "23        10000.0     11.71       330.76         5.0    50000.00   36 months   \n",
       "24         6000.0     11.71       198.46         1.0    76000.00   36 months   \n",
       "25        15000.0      9.91       483.38         2.0    92000.00   36 months   \n",
       "26        15000.0     14.27       514.64         9.0    60000.00   36 months   \n",
       "27         5000.0     16.77       123.65         2.0    50004.00   60 months   \n",
       "28         4000.0     11.71       132.31        10.0   106000.00   36 months   \n",
       "29         8500.0     11.71       281.15         0.9    25000.00   36 months   \n",
       "30         4375.0      7.51       136.11         7.0    17108.00   36 months   \n",
       "31        31825.0      7.90       995.82         5.0    75000.00   36 months   \n",
       "...           ...       ...          ...         ...         ...         ...   \n",
       "887194    20000.0     14.31       686.57         4.0   262000.00   36 months   \n",
       "887198    30000.0     14.99      1039.82        10.0    84000.00   36 months   \n",
       "887202    12000.0     11.99       398.52         1.0    65000.00   36 months   \n",
       "887215    12825.0     17.14       458.15         6.0    38000.00   36 months   \n",
       "887231     7675.0     15.59       268.28         2.0    27000.00   36 months   \n",
       "887248    12000.0     12.39       400.82         4.0    55000.00   36 months   \n",
       "887249    27650.0     21.99       763.51         0.9    60000.00   60 months   \n",
       "887254     7200.0     14.99       249.56         5.0    74000.00   36 months   \n",
       "887263    25000.0     12.39       561.06         0.9   252000.00   60 months   \n",
       "887264    20000.0     12.99       673.79        10.0    76584.00   36 months   \n",
       "887268    20000.0     14.99       693.21        10.0   100000.00   36 months   \n",
       "887275    29675.0     13.66       685.27        10.0    62000.00   60 months   \n",
       "887276    25000.0     20.99       941.75        10.0    55000.00   36 months   \n",
       "887279     5875.0     16.49       207.98         5.0    35000.00   36 months   \n",
       "887280     5875.0     15.59       205.37         3.0    41000.00   36 months   \n",
       "887290    35000.0     24.99      1027.10         8.0    98000.00   60 months   \n",
       "887303    12000.0     17.86       432.99         9.0    42000.00   36 months   \n",
       "887308     2725.0     17.86        98.33         0.0    47784.00   36 months   \n",
       "887322    10000.0     23.99       287.63         2.0    35000.00   60 months   \n",
       "887330    14000.0     15.99       492.13         5.0    69000.00   36 months   \n",
       "887332    15000.0     12.39       501.02         6.0    75000.00   36 months   \n",
       "887337    19600.0     14.31       459.22         0.0    49000.00   60 months   \n",
       "887345    28000.0     15.59       978.74         3.0   120000.00   36 months   \n",
       "887346     6000.0     10.49       194.99         4.0    42000.00   36 months   \n",
       "887347    17000.0     15.99       413.32        10.0    63078.00   60 months   \n",
       "887351     4200.0     15.99       147.64        10.0    48000.00   36 months   \n",
       "887364    10775.0      6.03       327.95         0.9    54000.00   36 months   \n",
       "887366     6225.0     16.49       220.37         2.0    27000.00   36 months   \n",
       "887369     4000.0      8.67       126.59        10.0    50000.00   36 months   \n",
       "887371    10850.0     19.24       399.04         0.0    32000.00   36 months   \n",
       "\n",
       "          dti  inq_last_6mths  mths_since_last_delinq  mths_since_last_record  \\\n",
       "0       27.65             1.0                     0.0                     0.0   \n",
       "1        1.00             5.0                     0.0                     0.0   \n",
       "2        8.72             2.0                     0.0                     0.0   \n",
       "3       20.00             1.0                    35.0                     0.0   \n",
       "5       11.20             3.0                     0.0                     0.0   \n",
       "7        5.35             2.0                     0.0                     0.0   \n",
       "8        5.55             2.0                     0.0                     0.0   \n",
       "9       18.08             0.0                     0.0                     0.0   \n",
       "10      16.12             2.0                     0.0                     0.0   \n",
       "11      10.78             0.0                     0.0                     0.0   \n",
       "12      10.08             1.0                     0.0                     0.0   \n",
       "13      12.56             2.0                     0.0                     0.0   \n",
       "14       7.06             2.0                     0.0                     0.0   \n",
       "15      20.31             1.0                     0.0                     0.0   \n",
       "16      18.60             2.0                    61.0                     0.0   \n",
       "17      10.52             0.0                     0.0                     0.0   \n",
       "18      18.44             0.0                     8.0                     0.0   \n",
       "19       9.86             0.0                     0.0                     0.0   \n",
       "20      26.53             3.0                     0.0                     0.0   \n",
       "21      13.22             0.0                     0.0                     0.0   \n",
       "22      11.18             0.0                     0.0                     0.0   \n",
       "23      16.01             0.0                     0.0                     0.0   \n",
       "24       2.40             1.0                     0.0                     0.0   \n",
       "25      29.44             0.0                     0.0                     0.0   \n",
       "26      15.22             1.0                     0.0                     0.0   \n",
       "27      13.97             0.0                    20.0                     0.0   \n",
       "28       5.63             0.0                    18.0                     0.0   \n",
       "29      12.19             0.0                     0.0                     0.0   \n",
       "30      20.34             0.0                     0.0                     0.0   \n",
       "31      14.03             0.0                     0.0                     0.0   \n",
       "...       ...             ...                     ...                     ...   \n",
       "887194   9.51             2.0                     0.0                     0.0   \n",
       "887198  16.54             1.0                    62.0                     0.0   \n",
       "887202   8.49             1.0                     0.0                     0.0   \n",
       "887215   9.03             0.0                     0.0                     0.0   \n",
       "887231  18.62             0.0                     0.0                     0.0   \n",
       "887248  26.58             2.0                    41.0                     0.0   \n",
       "887249  10.10             1.0                    20.0                     0.0   \n",
       "887254  22.25             2.0                     0.0                     0.0   \n",
       "887263   9.86             0.0                     0.0                     0.0   \n",
       "887264  12.83             2.0                    10.0                     0.0   \n",
       "887268  23.74             0.0                     6.0                    65.0   \n",
       "887275  10.88             1.0                     0.0                     0.0   \n",
       "887276  31.22             1.0                     0.0                     0.0   \n",
       "887279  18.93             1.0                     0.0                   119.0   \n",
       "887280  26.70             0.0                     0.0                     0.0   \n",
       "887290  15.56             1.0                    29.0                     0.0   \n",
       "887303  26.74             0.0                    11.0                     0.0   \n",
       "887308  14.69             1.0                    11.0                    44.0   \n",
       "887322   8.30             3.0                    28.0                     0.0   \n",
       "887330   8.23             0.0                    73.0                     0.0   \n",
       "887332  23.35             0.0                     0.0                     0.0   \n",
       "887337  22.58             2.0                     6.0                     0.0   \n",
       "887345  26.60             0.0                    69.0                     0.0   \n",
       "887346  10.66             1.0                    45.0                     0.0   \n",
       "887347  31.70             0.0                     0.0                     0.0   \n",
       "887351  36.93             0.0                    38.0                     0.0   \n",
       "887364  13.22             0.0                    16.0                     0.0   \n",
       "887366  18.58             1.0                     0.0                     0.0   \n",
       "887369  12.63             0.0                     0.0                    84.0   \n",
       "887371  29.44             1.0                    65.0                     0.0   \n",
       "\n",
       "        open_acc  revol_bal  revol_util  total_acc  \\\n",
       "0            3.0    13648.0       83.70        9.0   \n",
       "1            3.0     1687.0        9.40        4.0   \n",
       "2            2.0     2956.0       98.50       10.0   \n",
       "3           10.0     5598.0       21.00       37.0   \n",
       "5            9.0     7963.0       28.30       12.0   \n",
       "7            4.0     8221.0       87.50        4.0   \n",
       "8           11.0     5210.0       32.60       13.0   \n",
       "9            2.0     9279.0       36.50        3.0   \n",
       "10          14.0     4032.0       20.60       23.0   \n",
       "11          12.0    23336.0       67.10       34.0   \n",
       "12           4.0    10452.0       91.70        9.0   \n",
       "13          11.0     7323.0       43.10       11.0   \n",
       "14          14.0    11997.0       55.50       29.0   \n",
       "15          11.0     6524.0       81.50       23.0   \n",
       "16          14.0    24043.0       70.20       28.0   \n",
       "17          20.0    22836.0       16.00       42.0   \n",
       "18           4.0        0.0       37.73       14.0   \n",
       "19           8.0     7314.0       23.10       28.0   \n",
       "20           8.0    17813.0       85.60       22.0   \n",
       "21           7.0    32135.0       90.30       38.0   \n",
       "22           8.0    10056.0       82.40       21.0   \n",
       "23           6.0    17800.0       91.80       17.0   \n",
       "24           7.0     5963.0       29.70        7.0   \n",
       "25           8.0    13707.0       93.90       31.0   \n",
       "26           7.0     5872.0       57.60       11.0   \n",
       "27          14.0     4345.0       59.50       22.0   \n",
       "28          12.0     6110.0       37.70       44.0   \n",
       "29           8.0     6441.0       59.10       12.0   \n",
       "30           6.0    11210.0       86.90       12.0   \n",
       "31          12.0    23151.0       27.40       26.0   \n",
       "...          ...        ...         ...        ...   \n",
       "887194      12.0    13917.0       19.90       14.0   \n",
       "887198      15.0    30246.0       70.20       45.0   \n",
       "887202      14.0    12987.0       44.60       25.0   \n",
       "887215       8.0    11878.0       70.70       24.0   \n",
       "887231      29.0    14722.0       47.00       42.0   \n",
       "887248      23.0     8835.0       29.70       45.0   \n",
       "887249      14.0    18671.0       61.20       20.0   \n",
       "887254       8.0     5432.0       45.60       12.0   \n",
       "887263      23.0    66441.0       55.10       61.0   \n",
       "887264      10.0    10868.0       59.70       36.0   \n",
       "887268      17.0    16190.0       35.90       26.0   \n",
       "887275      10.0    25630.0       56.50       15.0   \n",
       "887276      13.0    22438.0       63.20       18.0   \n",
       "887279      10.0     2796.0       27.10       22.0   \n",
       "887280      10.0     7594.0       61.70       28.0   \n",
       "887290      31.0    26590.0       85.00       64.0   \n",
       "887303       7.0     1294.0       34.10       21.0   \n",
       "887308      10.0     1963.0       33.80       18.0   \n",
       "887322       6.0     4317.0       60.20       12.0   \n",
       "887330       9.0     7755.0       64.10       15.0   \n",
       "887332      13.0    31794.0       81.50       25.0   \n",
       "887337      22.0   141120.0       26.70       48.0   \n",
       "887345      17.0    39234.0       90.50       37.0   \n",
       "887346      18.0     4419.0       10.20       50.0   \n",
       "887347       8.0    11063.0       54.00       28.0   \n",
       "887351      13.0    12943.0       63.40       45.0   \n",
       "887364       9.0    10776.0       25.80       21.0   \n",
       "887366       3.0     1756.0       97.60        4.0   \n",
       "887369      11.0     1700.0        5.60       30.0   \n",
       "887371       9.0     6987.0       41.60       20.0   \n",
       "\n",
       "        mths_since_last_major_derog  tot_cur_bal  total_rev_hi_lim  ver_stat  \n",
       "0                               0.0          0.0               0.0         1  \n",
       "1                               0.0          0.0               0.0         1  \n",
       "2                               0.0          0.0               0.0         0  \n",
       "3                               0.0          0.0               0.0         1  \n",
       "5                               0.0          0.0               0.0         1  \n",
       "7                               0.0          0.0               0.0         1  \n",
       "8                               0.0          0.0               0.0         1  \n",
       "9                               0.0          0.0               0.0         1  \n",
       "10                              0.0          0.0               0.0         0  \n",
       "11                              0.0          0.0               0.0         1  \n",
       "12                              0.0          0.0               0.0         1  \n",
       "13                              0.0          0.0               0.0         1  \n",
       "14                              0.0          0.0               0.0         1  \n",
       "15                              0.0          0.0               0.0         0  \n",
       "16                              0.0          0.0               0.0         0  \n",
       "17                              0.0          0.0               0.0         0  \n",
       "18                              0.0          0.0               0.0         1  \n",
       "19                              0.0          0.0               0.0         0  \n",
       "20                              0.0          0.0               0.0         1  \n",
       "21                              0.0          0.0               0.0         1  \n",
       "22                              0.0          0.0               0.0         1  \n",
       "23                              0.0          0.0               0.0         0  \n",
       "24                              0.0          0.0               0.0         0  \n",
       "25                              0.0          0.0               0.0         1  \n",
       "26                              0.0          0.0               0.0         0  \n",
       "27                              0.0          0.0               0.0         0  \n",
       "28                              0.0          0.0               0.0         0  \n",
       "29                              0.0          0.0               0.0         1  \n",
       "30                              0.0          0.0               0.0         1  \n",
       "31                              0.0          0.0               0.0         1  \n",
       "...                             ...          ...               ...       ...  \n",
       "887194                          0.0      61494.0           70000.0         0  \n",
       "887198                         62.0     302480.0           43100.0         1  \n",
       "887202                          0.0      19865.0           29100.0         1  \n",
       "887215                          0.0     131124.0           16800.0         0  \n",
       "887231                          0.0      78891.0           31300.0         1  \n",
       "887248                         41.0     236495.0           29700.0         1  \n",
       "887249                          0.0      18671.0           30500.0         1  \n",
       "887254                          0.0      78489.0           11900.0         0  \n",
       "887263                          0.0     993967.0          120600.0         1  \n",
       "887264                         37.0      41272.0           18200.0         1  \n",
       "887268                          6.0     359329.0           38300.0         1  \n",
       "887275                          0.0     351558.0           45400.0         1  \n",
       "887276                          0.0     167189.0           35500.0         1  \n",
       "887279                          0.0      19098.0           10300.0         1  \n",
       "887280                          0.0     174030.0           12300.0         1  \n",
       "887290                         29.0     603744.0           31300.0         1  \n",
       "887303                         11.0      51882.0            3800.0         1  \n",
       "887308                         29.0     162837.0            5800.0         1  \n",
       "887322                         31.0       8529.0            7200.0         1  \n",
       "887330                         75.0      22279.0           12100.0         1  \n",
       "887332                          0.0     186375.0           39000.0         1  \n",
       "887337                          0.0     141120.0          233000.0         1  \n",
       "887345                         69.0      74969.0           43500.0         1  \n",
       "887346                         45.0       4419.0           43400.0         1  \n",
       "887347                          0.0     125541.0           20500.0         1  \n",
       "887351                         38.0     207975.0           20400.0         1  \n",
       "887364                         28.0      24696.0           41700.0         0  \n",
       "887366                          0.0       8357.0            1800.0         1  \n",
       "887369                          0.0      18979.0           30100.0         1  \n",
       "887371                          0.0      53777.0           16800.0         1  \n",
       "\n",
       "[221810 rows x 18 columns]>"
      ]
     },
     "execution_count": 446,
     "metadata": {},
     "output_type": "execute_result"
    }
   ],
   "source": [
    "df_num.corr"
   ]
  },
  {
   "cell_type": "code",
   "execution_count": 447,
   "metadata": {},
   "outputs": [
    {
     "data": {
      "text/plain": [
       "<matplotlib.image.AxesImage at 0x1ff1e817ba8>"
      ]
     },
     "execution_count": 447,
     "metadata": {},
     "output_type": "execute_result"
    },
    {
     "data": {
      "image/png": "[encoded data removed]",
      "text/plain": [
       "<Figure size 288x288 with 1 Axes>"
      ]
     },
     "metadata": {},
     "output_type": "display_data"
    }
   ],
   "source": [
    "plt.matshow(df_num.corr())\n",
    "#based on the corr matrix, loan amt and installment are highly correlated, taking installment off"
   ]
  },
  {
   "cell_type": "raw",
   "metadata": {},
   "source": [
    "plt.matshow(df_num.cov())"
   ]
  },
  {
   "cell_type": "code",
   "execution_count": 448,
   "metadata": {},
   "outputs": [],
   "source": [
    "# Create train and test data by 80- 20 split for a specific loan purpose ie credit card"
   ]
  },
  {
   "cell_type": "code",
   "execution_count": 449,
   "metadata": {},
   "outputs": [
    {
     "name": "stdout",
     "output_type": "stream",
     "text": [
      "(44123, 19)\n",
      "<bound method NDFrame.describe of         loan_amnt  int_rate  grade  emp_length  home_ownership  annual_inc  \\\n",
      "0          5000.0     10.65      2        10.0               2     24000.0   \n",
      "13         3000.0      9.91      2         3.0               2     15000.0   \n",
      "22        10000.0     11.71      2        10.0               3     50000.0   \n",
      "25        15000.0      9.91      2         2.0               1     92000.0   \n",
      "29         8500.0     11.71      2         0.9               2     25000.0   \n",
      "34         7000.0     15.96      3         7.0               2     34000.0   \n",
      "35        12400.0     10.65      2        10.0               2     41000.0   \n",
      "48        10000.0      6.03      1        10.0               2     60000.0   \n",
      "51        25600.0      9.91      2         9.0               2    110000.0   \n",
      "54        12000.0      9.91      2         1.0               2     46000.0   \n",
      "56        16000.0     19.91      5         7.0               2     81000.0   \n",
      "58        10000.0     10.65      2         2.0               2     51400.0   \n",
      "69        15000.0     14.65      3         2.0               3     61000.0   \n",
      "70        20975.0     17.58      4         5.0               1     44000.0   \n",
      "73        12000.0     16.77      4         3.0               2     50000.0   \n",
      "81        10000.0     14.27      3         2.0               2     68000.0   \n",
      "82        11800.0     12.69      2         6.0               2     42000.0   \n",
      "84         7000.0     12.69      2        10.0               2     35000.0   \n",
      "90        12000.0     10.65      2         0.9               2     62000.0   \n",
      "91         7000.0     10.65      2         3.0               1     43680.0   \n",
      "97        17500.0     17.27      4         7.0               1     45000.0   \n",
      "103        7200.0      9.91      2         6.0               2    135000.0   \n",
      "104        9500.0      8.90      1         7.0               1     50000.0   \n",
      "114       10000.0     18.25      4         1.0               2     75000.0   \n",
      "115        8000.0     11.71      2         9.0               1     35000.0   \n",
      "120       25000.0     13.49      3        10.0               1     67000.0   \n",
      "127       21000.0     20.30      5        10.0               2     70000.0   \n",
      "129       10000.0      7.51      1         3.0               2     33000.0   \n",
      "130        7000.0     12.69      2         0.9               2     30000.0   \n",
      "134        8850.0      6.62      1        10.0               2     62000.0   \n",
      "...           ...       ...    ...         ...             ...         ...   \n",
      "886740    30000.0      6.99      1        10.0               1     92000.0   \n",
      "886812    26000.0      8.19      1         2.0               3    210000.0   \n",
      "886839    35000.0     11.99      2         7.0               3    350000.0   \n",
      "886840     6000.0     11.99      2         5.0               2     34000.0   \n",
      "886872    33025.0     21.99      5         7.0               2     72000.0   \n",
      "886890    20000.0     10.49      2        10.0               3    103900.0   \n",
      "886928    30000.0      6.49      1        10.0               1    100000.0   \n",
      "886943    12000.0     12.39      3         1.0               2     68000.0   \n",
      "886946     5750.0     14.31      3         2.0               3     30000.0   \n",
      "886953    17000.0      7.49      1         2.0               1     75000.0   \n",
      "886977    22000.0     15.99      4        10.0               1    100000.0   \n",
      "887009    11000.0     11.44      2        10.0               1     70000.0   \n",
      "887038    15125.0     18.54      5        10.0               1     70000.0   \n",
      "887047    28000.0      9.49      2        10.0               1     73000.0   \n",
      "887069    24000.0     13.66      3         5.0               1    129000.0   \n",
      "887077     8000.0     11.99      2         9.0               2     45000.0   \n",
      "887124     5000.0     10.49      2         5.0               1     46000.0   \n",
      "887125     8400.0     11.44      2         1.0               1    100000.0   \n",
      "887126    13500.0     10.49      2         1.0               1     50000.0   \n",
      "887144     2000.0      8.19      1         8.0               1     31000.0   \n",
      "887151    35000.0      8.67      2         1.0               3    185000.0   \n",
      "887164    24000.0      6.49      1         0.9               1     75000.0   \n",
      "887168     7125.0     20.99      5         0.0               3     17000.0   \n",
      "887187    15000.0     12.39      3         3.0               1     45000.0   \n",
      "887193    11200.0     19.99      5         3.0               2     80000.0   \n",
      "887249    27650.0     21.99      5         0.9               2     60000.0   \n",
      "887254     7200.0     14.99      3         5.0               1     74000.0   \n",
      "887263    25000.0     12.39      3         0.9               1    252000.0   \n",
      "887264    20000.0     12.99      3        10.0               1     76584.0   \n",
      "887337    19600.0     14.31      3         0.0               3     49000.0   \n",
      "\n",
      "          dti  inq_last_6mths  mths_since_last_delinq  mths_since_last_record  \\\n",
      "0       27.65             1.0                     0.0                     0.0   \n",
      "13      12.56             2.0                     0.0                     0.0   \n",
      "22      11.18             0.0                     0.0                     0.0   \n",
      "25      29.44             0.0                     0.0                     0.0   \n",
      "29      12.19             0.0                     0.0                     0.0   \n",
      "34       6.35             1.0                     0.0                     0.0   \n",
      "35      11.80             2.0                     0.0                     0.0   \n",
      "48      12.74             1.0                     0.0                     0.0   \n",
      "51      15.71             0.0                     0.0                     0.0   \n",
      "54       8.11             1.0                     0.0                     0.0   \n",
      "56      20.52             3.0                     0.0                     0.0   \n",
      "58      19.14             3.0                     0.0                     0.0   \n",
      "69      11.88             1.0                     0.0                     0.0   \n",
      "70      18.79             0.0                     0.0                   105.0   \n",
      "73      20.57             1.0                     0.0                     0.0   \n",
      "81      15.39             1.0                     0.0                     0.0   \n",
      "82       9.86             0.0                     0.0                     0.0   \n",
      "84      11.35             2.0                    53.0                     0.0   \n",
      "90      23.94             0.0                     0.0                     0.0   \n",
      "91       5.38             0.0                    39.0                     0.0   \n",
      "97      21.31             2.0                     0.0                     0.0   \n",
      "103      6.12             0.0                     0.0                     0.0   \n",
      "104      8.18             0.0                     0.0                     0.0   \n",
      "114     24.14             0.0                    77.0                     0.0   \n",
      "115      9.70             0.0                     0.0                     0.0   \n",
      "120     14.15             0.0                    28.0                     0.0   \n",
      "127     23.21             2.0                     0.0                     0.0   \n",
      "129      9.75             1.0                     0.0                     0.0   \n",
      "130     15.80             2.0                     0.0                     0.0   \n",
      "134     17.71             0.0                     0.0                     0.0   \n",
      "...       ...             ...                     ...                     ...   \n",
      "886740  14.91             0.0                    11.0                     0.0   \n",
      "886812   8.90             0.0                     0.0                     0.0   \n",
      "886839   1.05             1.0                    43.0                     0.0   \n",
      "886840   8.44             1.0                     0.0                     0.0   \n",
      "886872  27.12             0.0                     0.0                     0.0   \n",
      "886890  12.18             0.0                    15.0                     0.0   \n",
      "886928  15.17             0.0                    70.0                     0.0   \n",
      "886943  33.67             0.0                    22.0                     0.0   \n",
      "886946  18.18             1.0                     2.0                     0.0   \n",
      "886953  11.01             2.0                     6.0                     0.0   \n",
      "886977   9.19             1.0                    11.0                     0.0   \n",
      "887009   8.46             0.0                    44.0                     0.0   \n",
      "887038  31.66             0.0                    26.0                     0.0   \n",
      "887047  14.12             0.0                     0.0                     0.0   \n",
      "887069  15.16             0.0                     0.0                     0.0   \n",
      "887077   7.01             1.0                    28.0                     0.0   \n",
      "887124   8.10             0.0                     0.0                     0.0   \n",
      "887125  37.20             0.0                    11.0                     0.0   \n",
      "887126   4.87             0.0                    31.0                     0.0   \n",
      "887144   8.45             1.0                    62.0                     0.0   \n",
      "887151   8.72             0.0                    37.0                    45.0   \n",
      "887164  21.31             1.0                     0.0                     0.0   \n",
      "887168  29.04             3.0                     0.0                   115.0   \n",
      "887187  31.44             1.0                     5.0                     0.0   \n",
      "887193   9.82             2.0                     0.0                     0.0   \n",
      "887249  10.10             1.0                    20.0                     0.0   \n",
      "887254  22.25             2.0                     0.0                     0.0   \n",
      "887263   9.86             0.0                     0.0                     0.0   \n",
      "887264  12.83             2.0                    10.0                     0.0   \n",
      "887337  22.58             2.0                     6.0                     0.0   \n",
      "\n",
      "        open_acc  revol_bal  revol_util  total_acc  \\\n",
      "0            3.0    13648.0        83.7        9.0   \n",
      "13          11.0     7323.0        43.1       11.0   \n",
      "22           8.0    10056.0        82.4       21.0   \n",
      "25           8.0    13707.0        93.9       31.0   \n",
      "29           8.0     6441.0        59.1       12.0   \n",
      "34           6.0     6113.0        60.5        6.0   \n",
      "35           9.0    11095.0        57.2       12.0   \n",
      "48          11.0    14019.0        19.5       18.0   \n",
      "51          11.0    26088.0        62.0       27.0   \n",
      "54          11.0    12143.0        52.1       12.0   \n",
      "56          12.0    27884.0        75.1       21.0   \n",
      "58          10.0    10160.0        59.1       24.0   \n",
      "69           8.0    19397.0        79.5       18.0   \n",
      "70          13.0    20657.0        79.4       21.0   \n",
      "73          13.0    11443.0        97.0       19.0   \n",
      "81           9.0    11303.0        81.3       15.0   \n",
      "82           4.0     8940.0        74.8       13.0   \n",
      "84          10.0     7649.0        82.3       26.0   \n",
      "90          10.0    20310.0        78.4       51.0   \n",
      "91           7.0     6245.0        78.1       11.0   \n",
      "97          13.0    20129.0        86.1       26.0   \n",
      "103          7.0    16627.0        79.6       18.0   \n",
      "104          8.0    13422.0        60.5       13.0   \n",
      "114          9.0    22828.0        96.3       26.0   \n",
      "115          7.0     6142.0        46.5        8.0   \n",
      "120          6.0    15319.0        91.2       21.0   \n",
      "127         17.0    12508.0        70.7       25.0   \n",
      "129          9.0       68.0         0.6       19.0   \n",
      "130          7.0    15455.0        47.6       11.0   \n",
      "134          7.0     9466.0        35.9       19.0   \n",
      "...          ...        ...         ...        ...   \n",
      "886740       7.0    23538.0        53.0       15.0   \n",
      "886812       9.0    24435.0        26.1       32.0   \n",
      "886839      11.0    19557.0        21.6       39.0   \n",
      "886840      10.0     6412.0        31.4       10.0   \n",
      "886872      12.0    34694.0        76.4       25.0   \n",
      "886890      10.0    45876.0        30.3       27.0   \n",
      "886928      14.0    51750.0        49.1       23.0   \n",
      "886943      18.0     8741.0        76.7       31.0   \n",
      "886946      11.0    11155.0        25.0       24.0   \n",
      "886953      11.0    21716.0        32.7       25.0   \n",
      "886977       6.0     6046.0        86.4       33.0   \n",
      "887009       7.0    12608.0        56.0       16.0   \n",
      "887038      11.0   138043.0        90.9       18.0   \n",
      "887047      17.0    36006.0        27.3       29.0   \n",
      "887069      18.0    29623.0        75.6       33.0   \n",
      "887077       3.0     3413.0        92.2       11.0   \n",
      "887124      11.0   106171.0        22.0       22.0   \n",
      "887125      11.0     6007.0        50.1       34.0   \n",
      "887126       8.0     5324.0        42.3       27.0   \n",
      "887144      13.0     4043.0        16.9       48.0   \n",
      "887151      10.0     6341.0        77.3       28.0   \n",
      "887164      10.0    15117.0        65.2       17.0   \n",
      "887168       9.0     4129.0        38.6       19.0   \n",
      "887187      14.0    14249.0        75.8       34.0   \n",
      "887193      13.0    21798.0        59.9       24.0   \n",
      "887249      14.0    18671.0        61.2       20.0   \n",
      "887254       8.0     5432.0        45.6       12.0   \n",
      "887263      23.0    66441.0        55.1       61.0   \n",
      "887264      10.0    10868.0        59.7       36.0   \n",
      "887337      22.0   141120.0        26.7       48.0   \n",
      "\n",
      "        mths_since_last_major_derog  tot_cur_bal  total_rev_hi_lim  ver_stat  \\\n",
      "0                               0.0          0.0               0.0         1   \n",
      "13                              0.0          0.0               0.0         1   \n",
      "22                              0.0          0.0               0.0         1   \n",
      "25                              0.0          0.0               0.0         1   \n",
      "29                              0.0          0.0               0.0         1   \n",
      "34                              0.0          0.0               0.0         1   \n",
      "35                              0.0          0.0               0.0         0   \n",
      "48                              0.0          0.0               0.0         0   \n",
      "51                              0.0          0.0               0.0         1   \n",
      "54                              0.0          0.0               0.0         0   \n",
      "56                              0.0          0.0               0.0         1   \n",
      "58                              0.0          0.0               0.0         0   \n",
      "69                              0.0          0.0               0.0         1   \n",
      "70                              0.0          0.0               0.0         1   \n",
      "73                              0.0          0.0               0.0         0   \n",
      "81                              0.0          0.0               0.0         1   \n",
      "82                              0.0          0.0               0.0         1   \n",
      "84                              0.0          0.0               0.0         1   \n",
      "90                              0.0          0.0               0.0         1   \n",
      "91                              0.0          0.0               0.0         0   \n",
      "97                              0.0          0.0               0.0         0   \n",
      "103                             0.0          0.0               0.0         0   \n",
      "104                             0.0          0.0               0.0         0   \n",
      "114                             0.0          0.0               0.0         1   \n",
      "115                             0.0          0.0               0.0         1   \n",
      "120                             0.0          0.0               0.0         1   \n",
      "127                             0.0          0.0               0.0         1   \n",
      "129                             0.0          0.0               0.0         0   \n",
      "130                             0.0          0.0               0.0         1   \n",
      "134                             0.0          0.0               0.0         1   \n",
      "...                             ...          ...               ...       ...   \n",
      "886740                          0.0     172334.0           39300.0         1   \n",
      "886812                          0.0     399488.0           93500.0         1   \n",
      "886839                          0.0     466884.0           90400.0         1   \n",
      "886840                          0.0       6412.0           20400.0         0   \n",
      "886872                          0.0      58860.0           45400.0         1   \n",
      "886890                          0.0     174206.0           89600.0         1   \n",
      "886928                         70.0      61529.0          105300.0         1   \n",
      "886943                          0.0     139164.0           11400.0         0   \n",
      "886946                          2.0      11155.0           44600.0         1   \n",
      "886953                          0.0     289554.0           66500.0         0   \n",
      "886977                          0.0      36201.0            7000.0         1   \n",
      "887009                          0.0     412929.0           22500.0         1   \n",
      "887038                          0.0     192934.0          144400.0         1   \n",
      "887047                          0.0     211673.0          131900.0         1   \n",
      "887069                          0.0     363352.0           39200.0         1   \n",
      "887077                         28.0       3790.0            3700.0         0   \n",
      "887124                          0.0     243255.0          148400.0         1   \n",
      "887125                          0.0     133159.0           12000.0         1   \n",
      "887126                         31.0     206579.0           12600.0         0   \n",
      "887144                         62.0       4043.0           23900.0         1   \n",
      "887151                         47.0     835947.0           63200.0         1   \n",
      "887164                          0.0     136362.0           23200.0         1   \n",
      "887168                          0.0      12069.0           10700.0         1   \n",
      "887187                         12.0      87729.0           18800.0         0   \n",
      "887193                          0.0      28293.0           36400.0         0   \n",
      "887249                          0.0      18671.0           30500.0         1   \n",
      "887254                          0.0      78489.0           11900.0         0   \n",
      "887263                          0.0     993967.0          120600.0         1   \n",
      "887264                         37.0      41272.0           18200.0         1   \n",
      "887337                          0.0     141120.0          233000.0         1   \n",
      "\n",
      "       loan_class  \n",
      "0            Good  \n",
      "13           Good  \n",
      "22           Good  \n",
      "25           Good  \n",
      "29           Good  \n",
      "34           Good  \n",
      "35           Good  \n",
      "48           Good  \n",
      "51           Good  \n",
      "54           Good  \n",
      "56           Good  \n",
      "58           Good  \n",
      "69           Good  \n",
      "70           Good  \n",
      "73           Good  \n",
      "81           Good  \n",
      "82           Good  \n",
      "84           Good  \n",
      "90           Good  \n",
      "91           Good  \n",
      "97            Bad  \n",
      "103          Good  \n",
      "104          Good  \n",
      "114           Bad  \n",
      "115          Good  \n",
      "120           Bad  \n",
      "127          Good  \n",
      "129          Good  \n",
      "130          Good  \n",
      "134          Good  \n",
      "...           ...  \n",
      "886740       Good  \n",
      "886812       Good  \n",
      "886839        Bad  \n",
      "886840        Bad  \n",
      "886872        Bad  \n",
      "886890       Good  \n",
      "886928       Good  \n",
      "886943       Good  \n",
      "886946        Bad  \n",
      "886953       Good  \n",
      "886977       Good  \n",
      "887009       Good  \n",
      "887038       Good  \n",
      "887047       Good  \n",
      "887069       Good  \n",
      "887077        Bad  \n",
      "887124       Good  \n",
      "887125        Bad  \n",
      "887126        Bad  \n",
      "887144       Good  \n",
      "887151        Bad  \n",
      "887164       Good  \n",
      "887168        Bad  \n",
      "887187       Good  \n",
      "887193        Bad  \n",
      "887249       Good  \n",
      "887254        Bad  \n",
      "887263       Good  \n",
      "887264       Good  \n",
      "887337        Bad  \n",
      "\n",
      "[44123 rows x 19 columns]>\n",
      "    loan_amnt  int_rate  grade  emp_length  home_ownership  annual_inc    dti  \\\n",
      "0      5000.0     10.65      2        10.0               2     24000.0  27.65   \n",
      "13     3000.0      9.91      2         3.0               2     15000.0  12.56   \n",
      "22    10000.0     11.71      2        10.0               3     50000.0  11.18   \n",
      "25    15000.0      9.91      2         2.0               1     92000.0  29.44   \n",
      "29     8500.0     11.71      2         0.9               2     25000.0  12.19   \n",
      "\n",
      "    inq_last_6mths  mths_since_last_delinq  mths_since_last_record  open_acc  \\\n",
      "0              1.0                     0.0                     0.0       3.0   \n",
      "13             2.0                     0.0                     0.0      11.0   \n",
      "22             0.0                     0.0                     0.0       8.0   \n",
      "25             0.0                     0.0                     0.0       8.0   \n",
      "29             0.0                     0.0                     0.0       8.0   \n",
      "\n",
      "    revol_bal  revol_util  total_acc  mths_since_last_major_derog  \\\n",
      "0     13648.0        83.7        9.0                          0.0   \n",
      "13     7323.0        43.1       11.0                          0.0   \n",
      "22    10056.0        82.4       21.0                          0.0   \n",
      "25    13707.0        93.9       31.0                          0.0   \n",
      "29     6441.0        59.1       12.0                          0.0   \n",
      "\n",
      "    tot_cur_bal  total_rev_hi_lim  ver_stat loan_class  \n",
      "0           0.0               0.0         1       Good  \n",
      "13          0.0               0.0         1       Good  \n",
      "22          0.0               0.0         1       Good  \n",
      "25          0.0               0.0         1       Good  \n",
      "29          0.0               0.0         1       Good  \n"
     ]
    }
   ],
   "source": [
    "df_cc = df_clean[df_clean['purpose']=='credit_card']\n",
    "#print(df_cc.head())\n",
    "modelling_df = df_cc[['loan_amnt', 'int_rate', 'grade','emp_length', 'home_ownership', 'annual_inc',\n",
    "                        'dti','inq_last_6mths','mths_since_last_delinq', 'mths_since_last_record', 'open_acc',\n",
    "                          'revol_bal', 'revol_util', 'total_acc','mths_since_last_major_derog', 'tot_cur_bal', 'total_rev_hi_lim', \n",
    "                          'ver_stat','loan_class']]\n",
    "print(modelling_df.shape)\n",
    "print(modelling_df.describe)\n",
    "#221810 rows x 20 columns (including the target variable)\n",
    "print(modelling_df.head())"
   ]
  },
  {
   "cell_type": "markdown",
   "metadata": {},
   "source": [
    "# Modelling"
   ]
  },
  {
   "cell_type": "code",
   "execution_count": 450,
   "metadata": {},
   "outputs": [
    {
     "data": {
      "text/plain": [
       "array([' 36 months', ' 60 months'], dtype=object)"
      ]
     },
     "execution_count": 450,
     "metadata": {},
     "output_type": "execute_result"
    }
   ],
   "source": [
    "df_clean.term.unique()"
   ]
  },
  {
   "cell_type": "code",
   "execution_count": 451,
   "metadata": {},
   "outputs": [
    {
     "name": "stdout",
     "output_type": "stream",
     "text": [
      "(35298, 19)\n",
      "(8825, 19)\n",
      "Good    28527\n",
      "Bad      6771\n",
      "Name: loan_class, dtype: int64\n",
      "Good    7078\n",
      "Bad     1747\n",
      "Name: loan_class, dtype: int64\n"
     ]
    }
   ],
   "source": [
    "\n",
    "\n",
    "train_dat=modelling_df.sample(frac=0.8,random_state=99)\n",
    "test_dat=modelling_df.drop(train_dat.index)\n",
    "print(train_dat.shape)\n",
    "print(test_dat.shape)\n",
    "print(train_dat.loan_class.value_counts())\n",
    "print(test_dat.loan_class.value_counts())\n",
    "\n",
    "\n",
    "# Overall, the value \"Bad\" in the target dataset make up only 20% of the population. \n",
    "# This split ensures that both the train and test datasets have almost 20% of the \"Bad\" population making it an even split"
   ]
  },
  {
   "cell_type": "code",
   "execution_count": 452,
   "metadata": {},
   "outputs": [
    {
     "name": "stdout",
     "output_type": "stream",
     "text": [
      "(35298, 18)\n",
      "(8825, 18)\n"
     ]
    },
    {
     "data": {
      "text/plain": [
       "pandas.core.series.Series"
      ]
     },
     "execution_count": 452,
     "metadata": {},
     "output_type": "execute_result"
    }
   ],
   "source": [
    "train_variables=train_dat.drop('loan_class',axis=1)\n",
    "print(train_variables.shape)\n",
    "train_target=train_dat['loan_class']\n",
    "type(train_target)\n",
    "\n",
    "test_variables=test_dat.drop('loan_class',axis=1)\n",
    "print(test_variables.shape)\n",
    "test_target=test_dat['loan_class']\n",
    "type(test_target)\n"
   ]
  },
  {
   "cell_type": "markdown",
   "metadata": {},
   "source": [
    "# Decision Tree Classifier"
   ]
  },
  {
   "cell_type": "code",
   "execution_count": 453,
   "metadata": {},
   "outputs": [
    {
     "name": "stdout",
     "output_type": "stream",
     "text": [
      "DecisionTreeClassifier(class_weight=None, criterion='gini', max_depth=None,\n",
      "            max_features=None, max_leaf_nodes=None,\n",
      "            min_impurity_decrease=0.0, min_impurity_split=None,\n",
      "            min_samples_leaf=1, min_samples_split=2,\n",
      "            min_weight_fraction_leaf=0.0, presort=False, random_state=None,\n",
      "            splitter='best')\n"
     ]
    }
   ],
   "source": [
    "model=tree.DecisionTreeClassifier()\n",
    "print(model)"
   ]
  },
  {
   "cell_type": "code",
   "execution_count": 454,
   "metadata": {},
   "outputs": [
    {
     "data": {
      "text/plain": [
       "DecisionTreeClassifier(class_weight=None, criterion='gini', max_depth=None,\n",
       "            max_features=None, max_leaf_nodes=None,\n",
       "            min_impurity_decrease=0.0, min_impurity_split=None,\n",
       "            min_samples_leaf=1, min_samples_split=2,\n",
       "            min_weight_fraction_leaf=0.0, presort=False, random_state=None,\n",
       "            splitter='best')"
      ]
     },
     "execution_count": 454,
     "metadata": {},
     "output_type": "execute_result"
    }
   ],
   "source": [
    "model.fit(train_variables,train_target)\n"
   ]
  },
  {
   "cell_type": "code",
   "execution_count": 455,
   "metadata": {},
   "outputs": [
    {
     "name": "stdout",
     "output_type": "stream",
     "text": [
      "[0.07994415 0.0749136  0.05067742 0.04280271 0.01361648 0.08231037\n",
      " 0.10346073 0.02515032 0.03636871 0.01813279 0.05373644 0.08257158\n",
      " 0.09217917 0.0623045  0.01839984 0.08776609 0.0665655  0.0090996 ]\n"
     ]
    }
   ],
   "source": [
    "print(model.feature_importances_)"
   ]
  },
  {
   "cell_type": "code",
   "execution_count": 456,
   "metadata": {},
   "outputs": [
    {
     "name": "stdout",
     "output_type": "stream",
     "text": [
      "0.7010764872521247\n",
      "0.5451552795031056\n",
      "0.5485048198720512\n"
     ]
    }
   ],
   "source": [
    "dec_tree=model.predict(test_variables)\n",
    "print(accuracy_score(test_target,dec_tree))\n",
    "print(precision_score(test_target,dec_tree, average=\"macro\"))\n",
    "print(recall_score(test_target,dec_tree, average=\"macro\"))"
   ]
  },
  {
   "cell_type": "markdown",
   "metadata": {},
   "source": [
    "# Random Forest"
   ]
  },
  {
   "cell_type": "code",
   "execution_count": 457,
   "metadata": {},
   "outputs": [
    {
     "data": {
      "text/plain": [
       "RandomForestClassifier(bootstrap=True, class_weight=None, criterion='gini',\n",
       "            max_depth=None, max_features='auto', max_leaf_nodes=None,\n",
       "            min_impurity_decrease=0.0, min_impurity_split=None,\n",
       "            min_samples_leaf=1, min_samples_split=2,\n",
       "            min_weight_fraction_leaf=0.0, n_estimators=1000, n_jobs=2,\n",
       "            oob_score=False, random_state=99, verbose=0, warm_start=False)"
      ]
     },
     "execution_count": 457,
     "metadata": {},
     "output_type": "execute_result"
    }
   ],
   "source": [
    "rf_model = RandomForestClassifier(n_jobs=2, random_state=99,n_estimators=1000)\n",
    "rf_model.fit(train_variables,train_target)\n"
   ]
  },
  {
   "cell_type": "code",
   "execution_count": 458,
   "metadata": {},
   "outputs": [
    {
     "name": "stdout",
     "output_type": "stream",
     "text": [
      "RandomForestClassifier(bootstrap=True, class_weight=None, criterion='gini',\n",
      "            max_depth=None, max_features='auto', max_leaf_nodes=None,\n",
      "            min_impurity_decrease=0.0, min_impurity_split=None,\n",
      "            min_samples_leaf=1, min_samples_split=2,\n",
      "            min_weight_fraction_leaf=0.0, n_estimators=1000, n_jobs=2,\n",
      "            oob_score=False, random_state=99, verbose=0, warm_start=False)\n"
     ]
    }
   ],
   "source": [
    "print(rf_model)"
   ]
  },
  {
   "cell_type": "code",
   "execution_count": 459,
   "metadata": {},
   "outputs": [],
   "source": [
    "rf_pred=rf_model.predict(test_variables)"
   ]
  },
  {
   "cell_type": "code",
   "execution_count": 460,
   "metadata": {},
   "outputs": [
    {
     "name": "stdout",
     "output_type": "stream",
     "text": [
      "0.8041926345609065\n",
      "0.6814961951948656\n",
      "0.52246740992066\n"
     ]
    }
   ],
   "source": [
    "print(accuracy_score(test_target,rf_pred))\n",
    "print(precision_score(test_target,rf_pred, average=\"macro\"))\n",
    "print(recall_score(test_target,rf_pred, average=\"macro\"))"
   ]
  },
  {
   "cell_type": "code",
   "execution_count": 461,
   "metadata": {},
   "outputs": [
    {
     "data": {
      "text/plain": [
       "<matplotlib.axes._subplots.AxesSubplot at 0x1feaca78a58>"
      ]
     },
     "execution_count": 461,
     "metadata": {},
     "output_type": "execute_result"
    },
    {
     "data": {
      "image/png": "[encoded data removed]",
      "text/plain": [
       "<Figure size 1080x360 with 1 Axes>"
      ]
     },
     "metadata": {},
     "output_type": "display_data"
    }
   ],
   "source": [
    "df_loan_2010_clean['purpose'].value_counts().sort_values().plot(kind='barh',figsize=(15,5))"
   ]
  },
  {
   "cell_type": "code",
   "execution_count": 462,
   "metadata": {},
   "outputs": [
    {
     "data": {
      "text/plain": [
       "<matplotlib.axes._subplots.AxesSubplot at 0x1ff190ebef0>"
      ]
     },
     "execution_count": 462,
     "metadata": {},
     "output_type": "execute_result"
    },
    {
     "data": {
      "image/png": "[encoded data removed]",
      "text/plain": [
       "<Figure size 1080x360 with 1 Axes>"
      ]
     },
     "metadata": {},
     "output_type": "display_data"
    }
   ],
   "source": [
    "df_loan_2010_clean['loan_status'].value_counts().sort_values().plot(kind='barh',figsize=(15,5))"
   ]
  },
  {
   "cell_type": "code",
   "execution_count": 463,
   "metadata": {
    "scrolled": true
   },
   "outputs": [
    {
     "data": {
      "text/plain": [
       "<matplotlib.axes._subplots.AxesSubplot at 0x1ff1d92b2b0>"
      ]
     },
     "execution_count": 463,
     "metadata": {},
     "output_type": "execute_result"
    },
    {
     "data": {
      "image/png": "[encoded data removed]",
      "text/plain": [
       "<Figure size 1080x360 with 1 Axes>"
      ]
     },
     "metadata": {},
     "output_type": "display_data"
    }
   ],
   "source": [
    "df_loan_2010_clean['home_ownership'].value_counts().sort_values().plot(kind='barh',figsize=(15,5))"
   ]
  },
  {
   "cell_type": "code",
   "execution_count": 464,
   "metadata": {},
   "outputs": [
    {
     "data": {
      "text/plain": [
       "array([0.07599452, 0.08769795, 0.03596246, 0.04568443, 0.01678333,\n",
       "       0.08432055, 0.09536863, 0.02663842, 0.03924842, 0.01778069,\n",
       "       0.05595478, 0.08418459, 0.085826  , 0.06816236, 0.02065238,\n",
       "       0.07782419, 0.07189536, 0.01002095])"
      ]
     },
     "execution_count": 464,
     "metadata": {},
     "output_type": "execute_result"
    }
   ],
   "source": [
    "rf_model.feature_importances_"
   ]
  },
  {
   "cell_type": "code",
   "execution_count": 465,
   "metadata": {},
   "outputs": [
    {
     "data": {
      "text/plain": [
       "<bound method BaseForest.fit of RandomForestClassifier(bootstrap=True, class_weight=None, criterion='gini',\n",
       "            max_depth=None, max_features='auto', max_leaf_nodes=None,\n",
       "            min_impurity_decrease=0.0, min_impurity_split=None,\n",
       "            min_samples_leaf=1, min_samples_split=2,\n",
       "            min_weight_fraction_leaf=0.0, n_estimators=1000, n_jobs=2,\n",
       "            oob_score=False, random_state=99, verbose=0, warm_start=False)>"
      ]
     },
     "execution_count": 465,
     "metadata": {},
     "output_type": "execute_result"
    }
   ],
   "source": [
    "rf_model.fit"
   ]
  }
 ],
 "metadata": {
  "kernelspec": {
   "display_name": "Python 3",
   "language": "python",
   "name": "python3"
  },
  "language_info": {
   "codemirror_mode": {
    "name": "ipython",
    "version": 3
   },
   "file_extension": ".py",
   "mimetype": "text/x-python",
   "name": "python",
   "nbconvert_exporter": "python",
   "pygments_lexer": "ipython3",
   "version": "3.6.5"
  }
 },
 "nbformat": 4,
 "nbformat_minor": 2
}
